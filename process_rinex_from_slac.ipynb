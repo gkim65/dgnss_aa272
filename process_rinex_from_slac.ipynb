{
 "cells": [
  {
   "cell_type": "code",
   "execution_count": 66,
   "metadata": {},
   "outputs": [],
   "source": [
    "import georinex as gr\n",
    "import numpy as np\n",
    "import pandas as pd"
   ]
  },
  {
   "cell_type": "code",
   "execution_count": 67,
   "metadata": {},
   "outputs": [
    {
     "name": "stderr",
     "output_type": "stream",
     "text": [
      "/home/gigavoltflash/stanford_classes/AA_272/dgnss_aa272/gps_venv/lib/python3.10/site-packages/georinex/obs2.py:270: UserWarning: Converting non-nanosecond precision datetime values to nanosecond precision. This behavior can eventually be relaxed in xarray, as it is an artifact from pandas which is now beginning to support non-nanosecond precision values. This warning is caused by passing non-nanosecond np.datetime64 or np.timedelta64 values to the DataArray or Variable constructor; it can be silenced by converting the values to nanosecond precision ahead of time.\n",
      "  obs = xarray.Dataset(\n",
      "/home/gigavoltflash/stanford_classes/AA_272/dgnss_aa272/gps_venv/lib/python3.10/site-packages/georinex/obs2.py:270: UserWarning: Converting non-nanosecond precision datetime values to nanosecond precision. This behavior can eventually be relaxed in xarray, as it is an artifact from pandas which is now beginning to support non-nanosecond precision values. This warning is caused by passing non-nanosecond np.datetime64 or np.timedelta64 values to the DataArray or Variable constructor; it can be silenced by converting the values to nanosecond precision ahead of time.\n",
      "  obs = xarray.Dataset(\n",
      "/home/gigavoltflash/stanford_classes/AA_272/dgnss_aa272/gps_venv/lib/python3.10/site-packages/georinex/obs2.py:270: UserWarning: Converting non-nanosecond precision datetime values to nanosecond precision. This behavior can eventually be relaxed in xarray, as it is an artifact from pandas which is now beginning to support non-nanosecond precision values. This warning is caused by passing non-nanosecond np.datetime64 or np.timedelta64 values to the DataArray or Variable constructor; it can be silenced by converting the values to nanosecond precision ahead of time.\n",
      "  obs = xarray.Dataset(\n",
      "/home/gigavoltflash/stanford_classes/AA_272/dgnss_aa272/gps_venv/lib/python3.10/site-packages/georinex/obs2.py:270: UserWarning: Converting non-nanosecond precision datetime values to nanosecond precision. This behavior can eventually be relaxed in xarray, as it is an artifact from pandas which is now beginning to support non-nanosecond precision values. This warning is caused by passing non-nanosecond np.datetime64 or np.timedelta64 values to the DataArray or Variable constructor; it can be silenced by converting the values to nanosecond precision ahead of time.\n",
      "  obs = xarray.Dataset(\n",
      "/home/gigavoltflash/stanford_classes/AA_272/dgnss_aa272/gps_venv/lib/python3.10/site-packages/georinex/obs2.py:270: UserWarning: Converting non-nanosecond precision datetime values to nanosecond precision. This behavior can eventually be relaxed in xarray, as it is an artifact from pandas which is now beginning to support non-nanosecond precision values. This warning is caused by passing non-nanosecond np.datetime64 or np.timedelta64 values to the DataArray or Variable constructor; it can be silenced by converting the values to nanosecond precision ahead of time.\n",
      "  obs = xarray.Dataset(\n",
      "/home/gigavoltflash/stanford_classes/AA_272/dgnss_aa272/gps_venv/lib/python3.10/site-packages/georinex/obs2.py:270: UserWarning: Converting non-nanosecond precision datetime values to nanosecond precision. This behavior can eventually be relaxed in xarray, as it is an artifact from pandas which is now beginning to support non-nanosecond precision values. This warning is caused by passing non-nanosecond np.datetime64 or np.timedelta64 values to the DataArray or Variable constructor; it can be silenced by converting the values to nanosecond precision ahead of time.\n",
      "  obs = xarray.Dataset(\n"
     ]
    }
   ],
   "source": [
    "gz_path = 'test_slac/slac3230.24o.gz'\n",
    "dat = gr.load(gz_path)"
   ]
  },
  {
   "cell_type": "code",
   "execution_count": 68,
   "metadata": {},
   "outputs": [],
   "source": [
    "ecef_position = dat.position\n",
    "time_data = np.array(dat.time)\n",
    "C1_data = np.array(dat.C1)\n",
    "P1_data = np.array(dat.P1)\n",
    "sv_index = np.array(dat.sv)\n",
    "np.savez(\"test_slac/extracted_data.npz\", time=time_data, sv=sv_index, C1=C1_data, P1=P1_data, true_pos=ecef_position)"
   ]
  },
  {
   "cell_type": "code",
   "execution_count": 69,
   "metadata": {},
   "outputs": [
    {
     "data": {
      "text/plain": [
       "array(['2024-11-18T00:00:00.000000000', '2024-11-18T00:00:15.000000000',\n",
       "       '2024-11-18T00:00:30.000000000', ...,\n",
       "       '2024-11-18T23:59:15.000000000', '2024-11-18T23:59:30.000000000',\n",
       "       '2024-11-18T23:59:45.000000000'], dtype='datetime64[ns]')"
      ]
     },
     "execution_count": 69,
     "metadata": {},
     "output_type": "execute_result"
    }
   ],
   "source": [
    "time_data"
   ]
  }
 ],
 "metadata": {
  "kernelspec": {
   "display_name": "gps_venv",
   "language": "python",
   "name": "python3"
  },
  "language_info": {
   "codemirror_mode": {
    "name": "ipython",
    "version": 3
   },
   "file_extension": ".py",
   "mimetype": "text/x-python",
   "name": "python",
   "nbconvert_exporter": "python",
   "pygments_lexer": "ipython3",
   "version": "3.10.12"
  }
 },
 "nbformat": 4,
 "nbformat_minor": 2
}
