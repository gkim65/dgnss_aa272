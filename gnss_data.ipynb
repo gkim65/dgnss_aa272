{
 "cells": [
  {
   "cell_type": "code",
   "execution_count": 1,
   "metadata": {},
   "outputs": [],
   "source": [
    "import numpy as np\n",
    "import gnss_lib_py as glp\n",
    "import matplotlib.pyplot as plt"
   ]
  },
  {
   "cell_type": "code",
   "execution_count": 2,
   "metadata": {},
   "outputs": [],
   "source": [
    "# glp.make_dir(\"/Users/thomashuang/school/AA 272/data\")\n",
    "# !wget https://raw.githubusercontent.com/Stanford-NavLab/gnss_lib_py/main/data/unit_test/android/measurements/pixel6.txt --quiet -nc -O \"/Users/thomashuang/school/AA 272/data/gnss_log.txt\""
   ]
  },
  {
   "cell_type": "code",
   "execution_count": null,
   "metadata": {},
   "outputs": [],
   "source": [
    "path = './Pool/gnss_log_2024_11_06_11_13_38.txt'\n",
    "fix_data = glp.AndroidRawFixes(path)"
   ]
  },
  {
   "cell_type": "code",
   "execution_count": 4,
   "metadata": {},
   "outputs": [
    {
     "data": {
      "text/plain": [
       "['fused', 'gnss']"
      ]
     },
     "execution_count": 4,
     "metadata": {},
     "output_type": "execute_result"
    }
   ],
   "source": [
    "fix_types = np.unique(fix_data[\"fix_provider\"]).tolist()\n",
    "fix_types"
   ]
  },
  {
   "cell_type": "code",
   "execution_count": 5,
   "metadata": {},
   "outputs": [],
   "source": [
    "fixes = []\n",
    "for provider in fix_types:\n",
    "    fix_provider = fix_data.where(\"fix_provider\",provider)\n",
    "    fix_provider.rename({\"lat_rx_deg\":\"lat_rx_\" + provider + \"_deg\",\n",
    "                         \"lon_rx_deg\":\"lon_rx_\" + provider + \"_deg\",\n",
    "                         \"alt_rx_m\":\"alt_rx_\" + provider + \"_m\",\n",
    "                         }, inplace=True)\n",
    "    fixes.append(fix_provider)"
   ]
  },
  {
   "cell_type": "code",
   "execution_count": 6,
   "metadata": {},
   "outputs": [
    {
     "data": {
      "application/vnd.plotly.v1+json": {
       "config": {
        "plotlyServerURL": "https://plot.ly"
       },
       "data": [
        {
         "hovertemplate": "Trajectory=RX FUSED<br>latitude=%{lat}<br>longitude=%{lon}<extra></extra>",
         "lat": [
          37.4267721,
          37.426775,
          37.4267904,
          37.4268027,
          37.4268214,
          37.426829,
          37.426831,
          37.4268343,
          37.4268376,
          37.4268385,
          37.4268384,
          37.4268367,
          37.4268379,
          37.4268385,
          37.4268403,
          37.4268407,
          37.4268417,
          37.4268423,
          37.4268424,
          37.4268421,
          37.426842,
          37.4268426,
          37.4268431,
          37.4268439,
          37.4268438,
          37.4268439,
          37.4268443,
          37.4268453,
          37.4268459,
          37.4268469,
          37.4268475,
          37.4268484,
          37.4268486,
          37.4268486,
          37.4268489,
          37.4268489,
          37.4268489,
          37.426849,
          37.4268498,
          37.4268509,
          37.4268511,
          37.4268515,
          37.4268515,
          37.4268519,
          37.4268521,
          37.4268525,
          37.4268528,
          37.4268529,
          37.4268532,
          37.4268531,
          37.4268535,
          37.4268543,
          37.4268549,
          37.4268558,
          37.426856,
          37.4268571,
          37.4268572,
          37.426858,
          37.4268589,
          37.4268592,
          37.4268598,
          37.4268604,
          37.4268659,
          37.4268703,
          37.426874,
          37.4268775,
          37.4268794,
          37.4268828,
          37.4268877,
          37.4268922,
          37.4268968,
          37.4269014,
          37.4269078,
          37.4269115,
          37.426918,
          37.4269221,
          37.4269238,
          37.4269298,
          37.4269322,
          37.4269352,
          37.4269314,
          37.4269244,
          37.4269221,
          37.4269215,
          37.4269221,
          37.4269234,
          37.4269251,
          37.426926,
          37.4269237,
          37.4269231,
          37.4269225,
          37.4269221,
          37.4269209,
          37.4269195,
          37.4269179,
          37.4269169,
          37.4269157,
          37.4269137,
          37.426912,
          37.4269101,
          37.426905,
          37.4269007,
          37.4268954,
          37.4268884,
          37.4268805,
          37.4268732,
          37.4268678,
          37.4268626,
          37.4268623,
          37.426858,
          37.4268562,
          37.4268515,
          37.4268482,
          37.426846,
          37.4268419,
          37.4268482,
          37.4268558,
          37.426855,
          37.4268549,
          37.4268536,
          37.4268526,
          37.4268515,
          37.426849,
          37.4268484,
          37.4268472,
          37.426844,
          37.4268432,
          37.4268414,
          37.4268384,
          37.4268379,
          37.4268367,
          37.4268345,
          37.4268319,
          37.4268297,
          37.4268231,
          37.4268176,
          37.4268158,
          37.4268144,
          37.4268075,
          37.4268043,
          37.4268009,
          37.4267979,
          37.4267932,
          37.4267934,
          37.426793,
          37.4267894,
          37.4267885,
          37.4267869,
          37.4267826,
          37.4267796,
          37.4267771,
          37.4267725,
          37.4267681,
          37.4267653,
          37.4267602,
          37.4267574,
          37.4267546,
          37.4268054,
          37.4268337,
          37.426849,
          37.4268575,
          37.4268633,
          37.426868,
          37.426872,
          37.4268789,
          37.4268837,
          37.4268885,
          37.4268916,
          37.4268946,
          37.4268971,
          37.4268991,
          37.4268994,
          37.4269016,
          37.426901,
          37.4269029,
          37.4269027,
          37.4269054,
          37.4269043,
          37.4269037
         ],
         "legendgroup": "RX FUSED",
         "lon": [
          -122.1769171,
          -122.1769207,
          -122.1769257,
          -122.1769204,
          -122.1769302,
          -122.1769391,
          -122.1769393,
          -122.1769291,
          -122.1769139,
          -122.1769022,
          -122.1768886,
          -122.1768856,
          -122.1768859,
          -122.1768886,
          -122.1768821,
          -122.1768779,
          -122.1768628,
          -122.1768509,
          -122.1768423,
          -122.1768339,
          -122.176824,
          -122.1768179,
          -122.1768138,
          -122.1768052,
          -122.1768021,
          -122.1767963,
          -122.1767879,
          -122.1767804,
          -122.1767729,
          -122.1767652,
          -122.1767611,
          -122.1767518,
          -122.1767491,
          -122.1767465,
          -122.1767394,
          -122.1767372,
          -122.1767333,
          -122.1767262,
          -122.1767208,
          -122.1767199,
          -122.1767201,
          -122.1767197,
          -122.1767214,
          -122.1767222,
          -122.1767243,
          -122.1767256,
          -122.1767281,
          -122.1767297,
          -122.176733,
          -122.1767343,
          -122.1767383,
          -122.1767397,
          -122.1767436,
          -122.1767446,
          -122.1767484,
          -122.1767484,
          -122.1767532,
          -122.1767532,
          -122.1767524,
          -122.176758,
          -122.1767605,
          -122.176761,
          -122.1767535,
          -122.1767449,
          -122.1767425,
          -122.1767364,
          -122.1767423,
          -122.1767475,
          -122.1767481,
          -122.1767454,
          -122.1767432,
          -122.1767398,
          -122.1767355,
          -122.1767327,
          -122.1767285,
          -122.1767258,
          -122.1767251,
          -122.1767211,
          -122.1767198,
          -122.176718,
          -122.176805,
          -122.176887,
          -122.1769248,
          -122.1769496,
          -122.1769628,
          -122.1769723,
          -122.1769884,
          -122.1769993,
          -122.1770107,
          -122.1770138,
          -122.1770161,
          -122.1770178,
          -122.1770203,
          -122.1770255,
          -122.177027,
          -122.177029,
          -122.1770342,
          -122.1770332,
          -122.1770347,
          -122.1770386,
          -122.1770313,
          -122.1770288,
          -122.1770302,
          -122.177017,
          -122.1770077,
          -122.1770014,
          -122.1769884,
          -122.1769835,
          -122.1769693,
          -122.176962,
          -122.1769554,
          -122.1769497,
          -122.1769441,
          -122.1769377,
          -122.1769307,
          -122.1769159,
          -122.1768968,
          -122.1768873,
          -122.1768819,
          -122.1768737,
          -122.1768682,
          -122.1768702,
          -122.1768679,
          -122.1768664,
          -122.1768648,
          -122.1768589,
          -122.1768543,
          -122.1768502,
          -122.1768439,
          -122.1768379,
          -122.1768317,
          -122.1768235,
          -122.176813,
          -122.1768048,
          -122.176797,
          -122.176795,
          -122.1767948,
          -122.1767933,
          -122.1767983,
          -122.176806,
          -122.1768085,
          -122.1768133,
          -122.1768146,
          -122.1768187,
          -122.1768197,
          -122.1768193,
          -122.1768208,
          -122.1768205,
          -122.1768192,
          -122.176818,
          -122.1768171,
          -122.1768153,
          -122.1768133,
          -122.1768117,
          -122.1768091,
          -122.1768076,
          -122.1768062,
          -122.1768623,
          -122.176893,
          -122.1769079,
          -122.1769153,
          -122.1769225,
          -122.1769285,
          -122.1769339,
          -122.1769448,
          -122.176951,
          -122.1769647,
          -122.1769715,
          -122.1769806,
          -122.1769864,
          -122.1769962,
          -122.1770031,
          -122.177012,
          -122.1770155,
          -122.177023,
          -122.1770244,
          -122.1770309,
          -122.1770287,
          -122.1770278
         ],
         "marker": {
          "color": "#8C1515"
         },
         "mode": "markers",
         "name": "RX FUSED",
         "showlegend": true,
         "subplot": "mapbox",
         "type": "scattermapbox"
        },
        {
         "hovertemplate": "Trajectory=RX GNSS<br>latitude=%{lat}<br>longitude=%{lon}<extra></extra>",
         "lat": [
          37.4267755,
          37.42679204,
          37.42680297,
          37.42682341,
          37.42683071,
          37.42683178,
          37.42683512,
          37.42683847,
          37.4268389,
          37.42683875,
          37.4268383,
          37.42684001,
          37.42684171,
          37.42684181,
          37.42684174,
          37.42684338,
          37.42684517,
          37.42684653,
          37.42684627,
          37.42684543,
          37.42684637,
          37.42684748,
          37.42684614,
          37.42684846,
          37.42685109,
          37.42685272,
          37.42685391,
          37.42685487,
          37.42685711,
          37.42685975,
          37.42686118,
          37.42686166,
          37.42686305,
          37.42686502,
          37.42686658,
          37.42686714,
          37.42686894,
          37.42687856,
          37.42688768,
          37.42689587,
          37.42690192,
          37.42690753,
          37.42691156,
          37.42691571,
          37.42691962,
          37.42692253,
          37.42692322,
          37.42692268,
          37.42692065,
          37.42691937,
          37.42691706,
          37.4269133,
          37.42690763,
          37.42690038,
          37.42689469,
          37.4268906,
          37.42688442,
          37.42687866,
          37.42687174,
          37.42686763,
          37.42686228,
          37.42685614,
          37.42685161,
          37.42684777,
          37.426844,
          37.42683911,
          37.42683216,
          37.42682488,
          37.42681918,
          37.42681549,
          37.42681366,
          37.42681671,
          37.42682266,
          37.42683001,
          37.4268381,
          37.42684723,
          37.42685602,
          37.42686291,
          37.42686898,
          37.42687432,
          37.42687904,
          37.42688382,
          37.42688877,
          37.42689202,
          37.4268946,
          37.42689651,
          37.42689808,
          37.42689892,
          37.42689766
         ],
         "legendgroup": "RX GNSS",
         "lon": [
          -122.17692108,
          -122.17692602,
          -122.17691953,
          -122.17693195,
          -122.1769417,
          -122.17694067,
          -122.1769285,
          -122.17691461,
          -122.17690224,
          -122.17688895,
          -122.17687505,
          -122.17686211,
          -122.17684918,
          -122.17683755,
          -122.17682751,
          -122.17681716,
          -122.17680304,
          -122.17678934,
          -122.1767769,
          -122.17676507,
          -122.17675403,
          -122.17674286,
          -122.17673337,
          -122.17673808,
          -122.17674485,
          -122.17675101,
          -122.17675753,
          -122.17676314,
          -122.17676692,
          -122.1767705,
          -122.17677268,
          -122.17677567,
          -122.17677877,
          -122.17678151,
          -122.17678385,
          -122.17679145,
          -122.17680336,
          -122.17682011,
          -122.17684405,
          -122.17686731,
          -122.17688924,
          -122.17691441,
          -122.17693915,
          -122.17695758,
          -122.17697633,
          -122.17699416,
          -122.17700574,
          -122.17701191,
          -122.17701842,
          -122.17702221,
          -122.17702336,
          -122.1770214,
          -122.17701306,
          -122.17699848,
          -122.17698454,
          -122.17697191,
          -122.17695896,
          -122.17694832,
          -122.17693582,
          -122.17691805,
          -122.17690057,
          -122.17688536,
          -122.17687358,
          -122.17685989,
          -122.17684266,
          -122.17682645,
          -122.17681309,
          -122.17680586,
          -122.17680463,
          -122.17680968,
          -122.17682603,
          -122.1768473,
          -122.17686562,
          -122.17687856,
          -122.17688696,
          -122.17689485,
          -122.17690827,
          -122.17692238,
          -122.17693454,
          -122.17694589,
          -122.17695442,
          -122.17696732,
          -122.17697936,
          -122.17699425,
          -122.17700899,
          -122.17701496,
          -122.17701759,
          -122.17701467,
          -122.17701405
         ],
         "marker": {
          "color": "#6FC3FF"
         },
         "mode": "markers",
         "name": "RX GNSS",
         "showlegend": true,
         "subplot": "mapbox",
         "type": "scattermapbox"
        }
       ],
       "layout": {
        "height": 520,
        "legend": {
         "title": {
          "text": "Trajectory"
         },
         "tracegroupgap": 0
        },
        "mapbox": {
         "center": {
          "lat": 37.426845,
          "lon": -122.176878
         },
         "domain": {
          "x": [
           0,
           1
          ],
          "y": [
           0,
           1
          ]
         },
         "style": "open-street-map",
         "zoom": 18
        },
        "margin": {
         "b": 0,
         "l": 0,
         "r": 0,
         "t": 0
        },
        "template": {
         "data": {
          "bar": [
           {
            "error_x": {
             "color": "#2a3f5f"
            },
            "error_y": {
             "color": "#2a3f5f"
            },
            "marker": {
             "line": {
              "color": "#E5ECF6",
              "width": 0.5
             },
             "pattern": {
              "fillmode": "overlay",
              "size": 10,
              "solidity": 0.2
             }
            },
            "type": "bar"
           }
          ],
          "barpolar": [
           {
            "marker": {
             "line": {
              "color": "#E5ECF6",
              "width": 0.5
             },
             "pattern": {
              "fillmode": "overlay",
              "size": 10,
              "solidity": 0.2
             }
            },
            "type": "barpolar"
           }
          ],
          "carpet": [
           {
            "aaxis": {
             "endlinecolor": "#2a3f5f",
             "gridcolor": "white",
             "linecolor": "white",
             "minorgridcolor": "white",
             "startlinecolor": "#2a3f5f"
            },
            "baxis": {
             "endlinecolor": "#2a3f5f",
             "gridcolor": "white",
             "linecolor": "white",
             "minorgridcolor": "white",
             "startlinecolor": "#2a3f5f"
            },
            "type": "carpet"
           }
          ],
          "choropleth": [
           {
            "colorbar": {
             "outlinewidth": 0,
             "ticks": ""
            },
            "type": "choropleth"
           }
          ],
          "contour": [
           {
            "colorbar": {
             "outlinewidth": 0,
             "ticks": ""
            },
            "colorscale": [
             [
              0,
              "#0d0887"
             ],
             [
              0.1111111111111111,
              "#46039f"
             ],
             [
              0.2222222222222222,
              "#7201a8"
             ],
             [
              0.3333333333333333,
              "#9c179e"
             ],
             [
              0.4444444444444444,
              "#bd3786"
             ],
             [
              0.5555555555555556,
              "#d8576b"
             ],
             [
              0.6666666666666666,
              "#ed7953"
             ],
             [
              0.7777777777777778,
              "#fb9f3a"
             ],
             [
              0.8888888888888888,
              "#fdca26"
             ],
             [
              1,
              "#f0f921"
             ]
            ],
            "type": "contour"
           }
          ],
          "contourcarpet": [
           {
            "colorbar": {
             "outlinewidth": 0,
             "ticks": ""
            },
            "type": "contourcarpet"
           }
          ],
          "heatmap": [
           {
            "colorbar": {
             "outlinewidth": 0,
             "ticks": ""
            },
            "colorscale": [
             [
              0,
              "#0d0887"
             ],
             [
              0.1111111111111111,
              "#46039f"
             ],
             [
              0.2222222222222222,
              "#7201a8"
             ],
             [
              0.3333333333333333,
              "#9c179e"
             ],
             [
              0.4444444444444444,
              "#bd3786"
             ],
             [
              0.5555555555555556,
              "#d8576b"
             ],
             [
              0.6666666666666666,
              "#ed7953"
             ],
             [
              0.7777777777777778,
              "#fb9f3a"
             ],
             [
              0.8888888888888888,
              "#fdca26"
             ],
             [
              1,
              "#f0f921"
             ]
            ],
            "type": "heatmap"
           }
          ],
          "heatmapgl": [
           {
            "colorbar": {
             "outlinewidth": 0,
             "ticks": ""
            },
            "colorscale": [
             [
              0,
              "#0d0887"
             ],
             [
              0.1111111111111111,
              "#46039f"
             ],
             [
              0.2222222222222222,
              "#7201a8"
             ],
             [
              0.3333333333333333,
              "#9c179e"
             ],
             [
              0.4444444444444444,
              "#bd3786"
             ],
             [
              0.5555555555555556,
              "#d8576b"
             ],
             [
              0.6666666666666666,
              "#ed7953"
             ],
             [
              0.7777777777777778,
              "#fb9f3a"
             ],
             [
              0.8888888888888888,
              "#fdca26"
             ],
             [
              1,
              "#f0f921"
             ]
            ],
            "type": "heatmapgl"
           }
          ],
          "histogram": [
           {
            "marker": {
             "pattern": {
              "fillmode": "overlay",
              "size": 10,
              "solidity": 0.2
             }
            },
            "type": "histogram"
           }
          ],
          "histogram2d": [
           {
            "colorbar": {
             "outlinewidth": 0,
             "ticks": ""
            },
            "colorscale": [
             [
              0,
              "#0d0887"
             ],
             [
              0.1111111111111111,
              "#46039f"
             ],
             [
              0.2222222222222222,
              "#7201a8"
             ],
             [
              0.3333333333333333,
              "#9c179e"
             ],
             [
              0.4444444444444444,
              "#bd3786"
             ],
             [
              0.5555555555555556,
              "#d8576b"
             ],
             [
              0.6666666666666666,
              "#ed7953"
             ],
             [
              0.7777777777777778,
              "#fb9f3a"
             ],
             [
              0.8888888888888888,
              "#fdca26"
             ],
             [
              1,
              "#f0f921"
             ]
            ],
            "type": "histogram2d"
           }
          ],
          "histogram2dcontour": [
           {
            "colorbar": {
             "outlinewidth": 0,
             "ticks": ""
            },
            "colorscale": [
             [
              0,
              "#0d0887"
             ],
             [
              0.1111111111111111,
              "#46039f"
             ],
             [
              0.2222222222222222,
              "#7201a8"
             ],
             [
              0.3333333333333333,
              "#9c179e"
             ],
             [
              0.4444444444444444,
              "#bd3786"
             ],
             [
              0.5555555555555556,
              "#d8576b"
             ],
             [
              0.6666666666666666,
              "#ed7953"
             ],
             [
              0.7777777777777778,
              "#fb9f3a"
             ],
             [
              0.8888888888888888,
              "#fdca26"
             ],
             [
              1,
              "#f0f921"
             ]
            ],
            "type": "histogram2dcontour"
           }
          ],
          "mesh3d": [
           {
            "colorbar": {
             "outlinewidth": 0,
             "ticks": ""
            },
            "type": "mesh3d"
           }
          ],
          "parcoords": [
           {
            "line": {
             "colorbar": {
              "outlinewidth": 0,
              "ticks": ""
             }
            },
            "type": "parcoords"
           }
          ],
          "pie": [
           {
            "automargin": true,
            "type": "pie"
           }
          ],
          "scatter": [
           {
            "fillpattern": {
             "fillmode": "overlay",
             "size": 10,
             "solidity": 0.2
            },
            "type": "scatter"
           }
          ],
          "scatter3d": [
           {
            "line": {
             "colorbar": {
              "outlinewidth": 0,
              "ticks": ""
             }
            },
            "marker": {
             "colorbar": {
              "outlinewidth": 0,
              "ticks": ""
             }
            },
            "type": "scatter3d"
           }
          ],
          "scattercarpet": [
           {
            "marker": {
             "colorbar": {
              "outlinewidth": 0,
              "ticks": ""
             }
            },
            "type": "scattercarpet"
           }
          ],
          "scattergeo": [
           {
            "marker": {
             "colorbar": {
              "outlinewidth": 0,
              "ticks": ""
             }
            },
            "type": "scattergeo"
           }
          ],
          "scattergl": [
           {
            "marker": {
             "colorbar": {
              "outlinewidth": 0,
              "ticks": ""
             }
            },
            "type": "scattergl"
           }
          ],
          "scattermapbox": [
           {
            "marker": {
             "colorbar": {
              "outlinewidth": 0,
              "ticks": ""
             }
            },
            "type": "scattermapbox"
           }
          ],
          "scatterpolar": [
           {
            "marker": {
             "colorbar": {
              "outlinewidth": 0,
              "ticks": ""
             }
            },
            "type": "scatterpolar"
           }
          ],
          "scatterpolargl": [
           {
            "marker": {
             "colorbar": {
              "outlinewidth": 0,
              "ticks": ""
             }
            },
            "type": "scatterpolargl"
           }
          ],
          "scatterternary": [
           {
            "marker": {
             "colorbar": {
              "outlinewidth": 0,
              "ticks": ""
             }
            },
            "type": "scatterternary"
           }
          ],
          "surface": [
           {
            "colorbar": {
             "outlinewidth": 0,
             "ticks": ""
            },
            "colorscale": [
             [
              0,
              "#0d0887"
             ],
             [
              0.1111111111111111,
              "#46039f"
             ],
             [
              0.2222222222222222,
              "#7201a8"
             ],
             [
              0.3333333333333333,
              "#9c179e"
             ],
             [
              0.4444444444444444,
              "#bd3786"
             ],
             [
              0.5555555555555556,
              "#d8576b"
             ],
             [
              0.6666666666666666,
              "#ed7953"
             ],
             [
              0.7777777777777778,
              "#fb9f3a"
             ],
             [
              0.8888888888888888,
              "#fdca26"
             ],
             [
              1,
              "#f0f921"
             ]
            ],
            "type": "surface"
           }
          ],
          "table": [
           {
            "cells": {
             "fill": {
              "color": "#EBF0F8"
             },
             "line": {
              "color": "white"
             }
            },
            "header": {
             "fill": {
              "color": "#C8D4E3"
             },
             "line": {
              "color": "white"
             }
            },
            "type": "table"
           }
          ]
         },
         "layout": {
          "annotationdefaults": {
           "arrowcolor": "#2a3f5f",
           "arrowhead": 0,
           "arrowwidth": 1
          },
          "autotypenumbers": "strict",
          "coloraxis": {
           "colorbar": {
            "outlinewidth": 0,
            "ticks": ""
           }
          },
          "colorscale": {
           "diverging": [
            [
             0,
             "#8e0152"
            ],
            [
             0.1,
             "#c51b7d"
            ],
            [
             0.2,
             "#de77ae"
            ],
            [
             0.3,
             "#f1b6da"
            ],
            [
             0.4,
             "#fde0ef"
            ],
            [
             0.5,
             "#f7f7f7"
            ],
            [
             0.6,
             "#e6f5d0"
            ],
            [
             0.7,
             "#b8e186"
            ],
            [
             0.8,
             "#7fbc41"
            ],
            [
             0.9,
             "#4d9221"
            ],
            [
             1,
             "#276419"
            ]
           ],
           "sequential": [
            [
             0,
             "#0d0887"
            ],
            [
             0.1111111111111111,
             "#46039f"
            ],
            [
             0.2222222222222222,
             "#7201a8"
            ],
            [
             0.3333333333333333,
             "#9c179e"
            ],
            [
             0.4444444444444444,
             "#bd3786"
            ],
            [
             0.5555555555555556,
             "#d8576b"
            ],
            [
             0.6666666666666666,
             "#ed7953"
            ],
            [
             0.7777777777777778,
             "#fb9f3a"
            ],
            [
             0.8888888888888888,
             "#fdca26"
            ],
            [
             1,
             "#f0f921"
            ]
           ],
           "sequentialminus": [
            [
             0,
             "#0d0887"
            ],
            [
             0.1111111111111111,
             "#46039f"
            ],
            [
             0.2222222222222222,
             "#7201a8"
            ],
            [
             0.3333333333333333,
             "#9c179e"
            ],
            [
             0.4444444444444444,
             "#bd3786"
            ],
            [
             0.5555555555555556,
             "#d8576b"
            ],
            [
             0.6666666666666666,
             "#ed7953"
            ],
            [
             0.7777777777777778,
             "#fb9f3a"
            ],
            [
             0.8888888888888888,
             "#fdca26"
            ],
            [
             1,
             "#f0f921"
            ]
           ]
          },
          "colorway": [
           "#636efa",
           "#EF553B",
           "#00cc96",
           "#ab63fa",
           "#FFA15A",
           "#19d3f3",
           "#FF6692",
           "#B6E880",
           "#FF97FF",
           "#FECB52"
          ],
          "font": {
           "color": "#2a3f5f"
          },
          "geo": {
           "bgcolor": "white",
           "lakecolor": "white",
           "landcolor": "#E5ECF6",
           "showlakes": true,
           "showland": true,
           "subunitcolor": "white"
          },
          "hoverlabel": {
           "align": "left"
          },
          "hovermode": "closest",
          "mapbox": {
           "style": "light"
          },
          "paper_bgcolor": "white",
          "plot_bgcolor": "#E5ECF6",
          "polar": {
           "angularaxis": {
            "gridcolor": "white",
            "linecolor": "white",
            "ticks": ""
           },
           "bgcolor": "#E5ECF6",
           "radialaxis": {
            "gridcolor": "white",
            "linecolor": "white",
            "ticks": ""
           }
          },
          "scene": {
           "xaxis": {
            "backgroundcolor": "#E5ECF6",
            "gridcolor": "white",
            "gridwidth": 2,
            "linecolor": "white",
            "showbackground": true,
            "ticks": "",
            "zerolinecolor": "white"
           },
           "yaxis": {
            "backgroundcolor": "#E5ECF6",
            "gridcolor": "white",
            "gridwidth": 2,
            "linecolor": "white",
            "showbackground": true,
            "ticks": "",
            "zerolinecolor": "white"
           },
           "zaxis": {
            "backgroundcolor": "#E5ECF6",
            "gridcolor": "white",
            "gridwidth": 2,
            "linecolor": "white",
            "showbackground": true,
            "ticks": "",
            "zerolinecolor": "white"
           }
          },
          "shapedefaults": {
           "line": {
            "color": "#2a3f5f"
           }
          },
          "ternary": {
           "aaxis": {
            "gridcolor": "white",
            "linecolor": "white",
            "ticks": ""
           },
           "baxis": {
            "gridcolor": "white",
            "linecolor": "white",
            "ticks": ""
           },
           "bgcolor": "#E5ECF6",
           "caxis": {
            "gridcolor": "white",
            "linecolor": "white",
            "ticks": ""
           }
          },
          "title": {
           "x": 0.05
          },
          "xaxis": {
           "automargin": true,
           "gridcolor": "white",
           "linecolor": "white",
           "ticks": "",
           "title": {
            "standoff": 15
           },
           "zerolinecolor": "white",
           "zerolinewidth": 2
          },
          "yaxis": {
           "automargin": true,
           "gridcolor": "white",
           "linecolor": "white",
           "ticks": "",
           "title": {
            "standoff": 15
           },
           "zerolinecolor": "white",
           "zerolinewidth": 2
          }
         }
        },
        "width": 730
       }
      }
     },
     "metadata": {},
     "output_type": "display_data"
    }
   ],
   "source": [
    "fig_fix = glp.plot_map(*fixes)\n",
    "fig_fix.show()"
   ]
  },
  {
   "cell_type": "code",
   "execution_count": null,
   "metadata": {},
   "outputs": [
    {
     "name": "stdout",
     "output_type": "stream",
     "text": [
      "sv_time_uncertainty removed 106\n"
     ]
    }
   ],
   "source": [
    "raw_data = glp.AndroidRawGnss(input_path=path,\n",
    "                              filter_measurements=True,\n",
    "                              measurement_filters={\"sv_time_uncertainty\" : 500.},\n",
    "                              verbose=True)"
   ]
  },
  {
   "cell_type": "code",
   "execution_count": 60,
   "metadata": {},
   "outputs": [
    {
     "data": {
      "text/plain": [
       "['accumulated_delta_range_m',\n",
       " 'accumulated_delta_range_sigma_m',\n",
       " 'CarrierFrequencyHz',\n",
       " 'CarrierCycles',\n",
       " 'CarrierPhase',\n",
       " 'CarrierPhaseUncertainty',\n",
       " 'MultipathIndicator',\n",
       " 'SnrInDb',\n",
       " 'gnss_id',\n",
       " 'AgcDb',\n",
       " 'BasebandCn0DbHz',\n",
       " 'FullInterSignalBiasNanos',\n",
       " 'FullInterSignalBiasUncertaintyNanos',\n",
       " 'SatelliteInterSignalBiasNanos',\n",
       " 'SatelliteInterSignalBiasUncertaintyNanos',\n",
       " 'CodeType',\n",
       " 'ChipsetElapsedRealtimeNanos',\n",
       " 'IsFullTracking',\n",
       " 'signal_type',\n",
       " 'gps_millis',\n",
       " 'raw_pr_m',\n",
       " 'raw_pr_sigma_m']"
      ]
     },
     "execution_count": 60,
     "metadata": {},
     "output_type": "execute_result"
    }
   ],
   "source": [
    "raw_data.rows[20:]"
   ]
  },
  {
   "cell_type": "code",
   "execution_count": 33,
   "metadata": {},
   "outputs": [
    {
     "data": {
      "image/png": "[encoded data removed]",
      "text/plain": [
       "<Figure size 640x480 with 1 Axes>"
      ]
     },
     "metadata": {},
     "output_type": "display_data"
    },
    {
     "data": {
      "image/png": "[encoded data removed]",
      "text/plain": [
       "<Figure size 640x480 with 1 Axes>"
      ]
     },
     "metadata": {},
     "output_type": "display_data"
    },
    {
     "data": {
      "image/png": "[encoded data removed]",
      "text/plain": [
       "<Figure size 640x480 with 1 Axes>"
      ]
     },
     "metadata": {},
     "output_type": "display_data"
    },
    {
     "data": {
      "image/png": "[encoded data removed]",
      "text/plain": [
       "<Figure size 640x480 with 1 Axes>"
      ]
     },
     "metadata": {},
     "output_type": "display_data"
    },
    {
     "data": {
      "image/png": "[encoded data removed]",
      "text/plain": [
       "<Figure size 640x480 with 1 Axes>"
      ]
     },
     "metadata": {},
     "output_type": "display_data"
    }
   ],
   "source": [
    "figs = glp.plot_metric_by_constellation(raw_data,\"gps_millis\",\"raw_pr_m\")"
   ]
  },
  {
   "cell_type": "code",
   "execution_count": 7,
   "metadata": {},
   "outputs": [],
   "source": [
    "# full_states = glp.add_sv_states(raw_data, source=\"precise\", verbose=False)"
   ]
  }
 ],
 "metadata": {
  "kernelspec": {
   "display_name": "base",
   "language": "python",
   "name": "python3"
  },
  "language_info": {
   "codemirror_mode": {
    "name": "ipython",
    "version": 3
   },
   "file_extension": ".py",
   "mimetype": "text/x-python",
   "name": "python",
   "nbconvert_exporter": "python",
   "pygments_lexer": "ipython3",
   "version": "3.11.5"
  }
 },
 "nbformat": 4,
 "nbformat_minor": 2
}
