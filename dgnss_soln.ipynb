{
 "cells": [
  {
   "cell_type": "code",
   "execution_count": 2,
   "metadata": {},
   "outputs": [],
   "source": [
    "# !pip install gnss_lib_py|"
   ]
  },
  {
   "cell_type": "code",
   "execution_count": 3,
   "metadata": {},
   "outputs": [],
   "source": [
    "import numpy as np\n",
    "import gnss_lib_py as glp\n",
    "import matplotlib.pyplot as plt\n",
    "from datetime import datetime, timezone\n",
    "import pandas as pd"
   ]
  },
  {
   "cell_type": "markdown",
   "metadata": {},
   "source": [
    "https://drive.google.com/drive/folders/17vNrS_-Kq0msv2r9VHDkry3aEAxUcdAS"
   ]
  },
  {
   "cell_type": "markdown",
   "metadata": {},
   "source": [
    "### Pseudorange computation"
   ]
  },
  {
   "cell_type": "code",
   "execution_count": 4,
   "metadata": {},
   "outputs": [],
   "source": [
    "def compute_pseudoranges(raw_data):\n",
    "    nanosecs_in_week = 604800e9\n",
    "    speed_of_light = 299792458\n",
    "    week_no = np.floor(-raw_data['FullBiasNanos']/nanosecs_in_week)\n",
    "    corrected_rx_time = raw_data['TimeNanos'] + raw_data['TimeOffsetNanos']\n",
    "    adjusted_rx_bias = raw_data['FullBiasNanos'] + raw_data['BiasNanos']\n",
    "    rx_time_gps_frame = corrected_rx_time - adjusted_rx_bias\n",
    "    rx_time_week_frame = rx_time_gps_frame - week_no * nanosecs_in_week\n",
    "    rho_nanosecs = rx_time_week_frame - raw_data['ReceivedSvTimeNanos']\n",
    "    rho_m = rho_nanosecs * speed_of_light/1e9\n",
    "    return rho_m"
   ]
  },
  {
   "cell_type": "code",
   "execution_count": 5,
   "metadata": {},
   "outputs": [],
   "source": [
    "rover_path = './Oval/RoundLoop1_gnss_log_2024_11_17_16_52_31.txt'\n",
    "base_path = './Oval/RoundLoop1_BaseStation_gnss_log_2024_11_17_16_52_30.txt'"
   ]
  },
  {
   "cell_type": "code",
   "execution_count": 6,
   "metadata": {},
   "outputs": [
    {
     "name": "stdout",
     "output_type": "stream",
     "text": [
      "sv_time_uncertainty removed 1\n",
      "sv_time_uncertainty removed 1\n"
     ]
    }
   ],
   "source": [
    "rover_data = glp.AndroidRawGnss(input_path=rover_path,\n",
    "                              filter_measurements=True,\n",
    "                              measurement_filters={\"sv_time_uncertainty\" : 500.},\n",
    "                              verbose=True)\n",
    "\n",
    "base_data = glp.AndroidRawGnss(input_path=base_path,\n",
    "                              filter_measurements=True,\n",
    "                              measurement_filters={\"sv_time_uncertainty\" : 500.},\n",
    "                              verbose=True)\n",
    "\n",
    "rover_rho = compute_pseudoranges(rover_data)\n",
    "base_rho = compute_pseudoranges(base_data)"
   ]
  },
  {
   "cell_type": "markdown",
   "metadata": {},
   "source": [
    "### Pull the ephemeris (don't work)"
   ]
  },
  {
   "cell_type": "code",
   "execution_count": 7,
   "metadata": {},
   "outputs": [],
   "source": [
    "rover_gps_millis_start, rover_gps_millis_end = rover_data['gps_millis'][0], rover_data['gps_millis'][-1] \n",
    "base_gps_millis_start, base_gps_millis_end = base_data['gps_millis'][0], base_data['gps_millis'][-1]"
   ]
  },
  {
   "cell_type": "code",
   "execution_count": 8,
   "metadata": {},
   "outputs": [
    {
     "name": "stdout",
     "output_type": "stream",
     "text": [
      "ephemeris dates needed: [datetime.date(2024, 11, 17), datetime.date(2024, 11, 18)]\n",
      "FTP downloading /gnss/products/2341/GFZ0MGXRAP_20243220000_01D_05M_ORB.SP3.gz from gdc.cddis.eosdis.nasa.gov\n",
      "FTP downloading /gnss/products/2341/GFZ0MGXRAP_20243230000_01D_05M_ORB.SP3.gz from gdc.cddis.eosdis.nasa.gov\n",
      "550 Failed to open file. Failed to retrieve /gnss/products/2341/GFZ0MGXRAP_20243230000_01D_05M_ORB.SP3.gz from gdc.cddis.eosdis.nasa.gov\n",
      "using previously downloaded file:\n",
      " /Users/thomashuang/school/AA 272/final/dgnss_aa272/data/ephemeris/sp3/GFZ0MGXRAP_20243220000_01D_05M_ORB.SP3\n",
      "FTP downloading /gnss/products/2341/GFZ0MGXRAP_20243230000_01D_05M_ORB.SP3.gz from gdc.cddis.eosdis.nasa.gov\n",
      "using previously downloaded file:\n",
      " /Users/thomashuang/school/AA 272/final/dgnss_aa272/data/ephemeris/sp3/GFZ0MGXRAP_20243220000_01D_05M_ORB.SP3\n",
      "FTP downloading /gnss/products/2341/GFZ0MGXRAP_20243230000_01D_05M_ORB.SP3.gz from gdc.cddis.eosdis.nasa.gov\n"
     ]
    },
    {
     "ename": "error_perm",
     "evalue": "550 Failed to open file. Failed to retrieve /gnss/products/2341/GFZ0MGXRAP_20243230000_01D_05M_ORB.SP3.gz from gdc.cddis.eosdis.nasa.gov",
     "output_type": "error",
     "traceback": [
      "\u001b[0;31m---------------------------------------------------------------------------\u001b[0m",
      "\u001b[0;31merror_perm\u001b[0m                                Traceback (most recent call last)",
      "File \u001b[0;32m~/anaconda3/lib/python3.11/site-packages/gnss_lib_py/utils/ephemeris_downloader.py:939\u001b[0m, in \u001b[0;36m_ftp_download\u001b[0;34m(url, ftp_path, dest_filepath, verbose)\u001b[0m\n\u001b[1;32m    938\u001b[0m     \u001b[38;5;28;01mwith\u001b[39;00m \u001b[38;5;28mopen\u001b[39m(dest_filepath, \u001b[38;5;124m'\u001b[39m\u001b[38;5;124mwb\u001b[39m\u001b[38;5;124m'\u001b[39m) \u001b[38;5;28;01mas\u001b[39;00m handle:\n\u001b[0;32m--> 939\u001b[0m         ftp\u001b[38;5;241m.\u001b[39mretrbinary(\n\u001b[1;32m    940\u001b[0m             \u001b[38;5;124m'\u001b[39m\u001b[38;5;124mRETR \u001b[39m\u001b[38;5;124m'\u001b[39m \u001b[38;5;241m+\u001b[39m src_filepath, handle\u001b[38;5;241m.\u001b[39mwrite)\n\u001b[1;32m    941\u001b[0m \u001b[38;5;28;01mexcept\u001b[39;00m ftplib\u001b[38;5;241m.\u001b[39merror_perm \u001b[38;5;28;01mas\u001b[39;00m err:\n",
      "File \u001b[0;32m~/anaconda3/lib/python3.11/ftplib.py:436\u001b[0m, in \u001b[0;36mFTP.retrbinary\u001b[0;34m(self, cmd, callback, blocksize, rest)\u001b[0m\n\u001b[1;32m    435\u001b[0m \u001b[38;5;28mself\u001b[39m\u001b[38;5;241m.\u001b[39mvoidcmd(\u001b[38;5;124m'\u001b[39m\u001b[38;5;124mTYPE I\u001b[39m\u001b[38;5;124m'\u001b[39m)\n\u001b[0;32m--> 436\u001b[0m \u001b[38;5;28;01mwith\u001b[39;00m \u001b[38;5;28mself\u001b[39m\u001b[38;5;241m.\u001b[39mtransfercmd(cmd, rest) \u001b[38;5;28;01mas\u001b[39;00m conn:\n\u001b[1;32m    437\u001b[0m     \u001b[38;5;28;01mwhile\u001b[39;00m \u001b[38;5;241m1\u001b[39m:\n",
      "File \u001b[0;32m~/anaconda3/lib/python3.11/ftplib.py:393\u001b[0m, in \u001b[0;36mFTP.transfercmd\u001b[0;34m(self, cmd, rest)\u001b[0m\n\u001b[1;32m    392\u001b[0m \u001b[38;5;250m\u001b[39m\u001b[38;5;124;03m\"\"\"Like ntransfercmd() but returns only the socket.\"\"\"\u001b[39;00m\n\u001b[0;32m--> 393\u001b[0m \u001b[38;5;28;01mreturn\u001b[39;00m \u001b[38;5;28mself\u001b[39m\u001b[38;5;241m.\u001b[39mntransfercmd(cmd, rest)[\u001b[38;5;241m0\u001b[39m]\n",
      "File \u001b[0;32m~/anaconda3/lib/python3.11/ftplib.py:793\u001b[0m, in \u001b[0;36mFTP_TLS.ntransfercmd\u001b[0;34m(self, cmd, rest)\u001b[0m\n\u001b[1;32m    792\u001b[0m \u001b[38;5;28;01mdef\u001b[39;00m \u001b[38;5;21mntransfercmd\u001b[39m(\u001b[38;5;28mself\u001b[39m, cmd, rest\u001b[38;5;241m=\u001b[39m\u001b[38;5;28;01mNone\u001b[39;00m):\n\u001b[0;32m--> 793\u001b[0m     conn, size \u001b[38;5;241m=\u001b[39m \u001b[38;5;28msuper\u001b[39m()\u001b[38;5;241m.\u001b[39mntransfercmd(cmd, rest)\n\u001b[1;32m    794\u001b[0m     \u001b[38;5;28;01mif\u001b[39;00m \u001b[38;5;28mself\u001b[39m\u001b[38;5;241m.\u001b[39m_prot_p:\n",
      "File \u001b[0;32m~/anaconda3/lib/python3.11/ftplib.py:359\u001b[0m, in \u001b[0;36mFTP.ntransfercmd\u001b[0;34m(self, cmd, rest)\u001b[0m\n\u001b[1;32m    358\u001b[0m     \u001b[38;5;28mself\u001b[39m\u001b[38;5;241m.\u001b[39msendcmd(\u001b[38;5;124m\"\u001b[39m\u001b[38;5;124mREST \u001b[39m\u001b[38;5;132;01m%s\u001b[39;00m\u001b[38;5;124m\"\u001b[39m \u001b[38;5;241m%\u001b[39m rest)\n\u001b[0;32m--> 359\u001b[0m resp \u001b[38;5;241m=\u001b[39m \u001b[38;5;28mself\u001b[39m\u001b[38;5;241m.\u001b[39msendcmd(cmd)\n\u001b[1;32m    360\u001b[0m \u001b[38;5;66;03m# Some servers apparently send a 200 reply to\u001b[39;00m\n\u001b[1;32m    361\u001b[0m \u001b[38;5;66;03m# a LIST or STOR command, before the 150 reply\u001b[39;00m\n\u001b[1;32m    362\u001b[0m \u001b[38;5;66;03m# (and way before the 226 reply). This seems to\u001b[39;00m\n\u001b[1;32m    363\u001b[0m \u001b[38;5;66;03m# be in violation of the protocol (which only allows\u001b[39;00m\n\u001b[1;32m    364\u001b[0m \u001b[38;5;66;03m# 1xx or error messages for LIST), so we just discard\u001b[39;00m\n\u001b[1;32m    365\u001b[0m \u001b[38;5;66;03m# this response.\u001b[39;00m\n",
      "File \u001b[0;32m~/anaconda3/lib/python3.11/ftplib.py:281\u001b[0m, in \u001b[0;36mFTP.sendcmd\u001b[0;34m(self, cmd)\u001b[0m\n\u001b[1;32m    280\u001b[0m \u001b[38;5;28mself\u001b[39m\u001b[38;5;241m.\u001b[39mputcmd(cmd)\n\u001b[0;32m--> 281\u001b[0m \u001b[38;5;28;01mreturn\u001b[39;00m \u001b[38;5;28mself\u001b[39m\u001b[38;5;241m.\u001b[39mgetresp()\n",
      "File \u001b[0;32m~/anaconda3/lib/python3.11/ftplib.py:254\u001b[0m, in \u001b[0;36mFTP.getresp\u001b[0;34m(self)\u001b[0m\n\u001b[1;32m    253\u001b[0m \u001b[38;5;28;01mif\u001b[39;00m c \u001b[38;5;241m==\u001b[39m \u001b[38;5;124m'\u001b[39m\u001b[38;5;124m5\u001b[39m\u001b[38;5;124m'\u001b[39m:\n\u001b[0;32m--> 254\u001b[0m     \u001b[38;5;28;01mraise\u001b[39;00m error_perm(resp)\n\u001b[1;32m    255\u001b[0m \u001b[38;5;28;01mraise\u001b[39;00m error_proto(resp)\n",
      "\u001b[0;31merror_perm\u001b[0m: 550 Failed to open file.",
      "\nDuring handling of the above exception, another exception occurred:\n",
      "\u001b[0;31merror_perm\u001b[0m                                Traceback (most recent call last)",
      "File \u001b[0;32m~/anaconda3/lib/python3.11/site-packages/gnss_lib_py/utils/ephemeris_downloader.py:205\u001b[0m, in \u001b[0;36mload_ephemeris\u001b[0;34m(file_type, gps_millis, constellations, file_paths, download_directory, verbose)\u001b[0m\n\u001b[1;32m    203\u001b[0m \u001b[38;5;28;01mtry\u001b[39;00m:\n\u001b[1;32m    204\u001b[0m     \u001b[38;5;66;03m# second download attempt\u001b[39;00m\n\u001b[0;32m--> 205\u001b[0m     downloaded_paths \u001b[38;5;241m=\u001b[39m _download_ephemeris(file_type,\n\u001b[1;32m    206\u001b[0m                                            needed_files,\n\u001b[1;32m    207\u001b[0m                                            download_directory,\n\u001b[1;32m    208\u001b[0m                                            verbose)\n\u001b[1;32m    209\u001b[0m \u001b[38;5;28;01mexcept\u001b[39;00m ftplib\u001b[38;5;241m.\u001b[39merror_perm \u001b[38;5;28;01mas\u001b[39;00m err:\n\u001b[1;32m    210\u001b[0m     \u001b[38;5;66;03m# on Nov 26, 2013 - Dec 5, 2013 the entire DDD/YYp/ directory\u001b[39;00m\n\u001b[1;32m    211\u001b[0m     \u001b[38;5;66;03m# is missing, so use gps and glonass only in that case.\u001b[39;00m\n",
      "File \u001b[0;32m~/anaconda3/lib/python3.11/site-packages/gnss_lib_py/utils/ephemeris_downloader.py:381\u001b[0m, in \u001b[0;36m_download_ephemeris\u001b[0;34m(file_type, needed_files, download_directory, verbose)\u001b[0m\n\u001b[1;32m    380\u001b[0m dest_path_with_extension \u001b[38;5;241m=\u001b[39m os\u001b[38;5;241m.\u001b[39mpath\u001b[38;5;241m.\u001b[39mjoin(directory,os\u001b[38;5;241m.\u001b[39mpath\u001b[38;5;241m.\u001b[39msplit(ftp_path)[\u001b[38;5;241m1\u001b[39m])\n\u001b[0;32m--> 381\u001b[0m _ftp_download(url, ftp_path, dest_path_with_extension,\n\u001b[1;32m    382\u001b[0m               verbose)\n\u001b[1;32m    383\u001b[0m downloaded_paths\u001b[38;5;241m.\u001b[39mappend(dest_filepath)\n",
      "File \u001b[0;32m~/anaconda3/lib/python3.11/site-packages/gnss_lib_py/utils/ephemeris_downloader.py:943\u001b[0m, in \u001b[0;36m_ftp_download\u001b[0;34m(url, ftp_path, dest_filepath, verbose)\u001b[0m\n\u001b[1;32m    942\u001b[0m     os\u001b[38;5;241m.\u001b[39mremove(dest_filepath)\n\u001b[0;32m--> 943\u001b[0m     \u001b[38;5;28;01mraise\u001b[39;00m ftplib\u001b[38;5;241m.\u001b[39merror_perm(\u001b[38;5;28mstr\u001b[39m(err) \u001b[38;5;241m+\u001b[39m \u001b[38;5;124m'\u001b[39m\u001b[38;5;124m Failed to retrieve \u001b[39m\u001b[38;5;124m'\u001b[39m \\\n\u001b[1;32m    944\u001b[0m                           \u001b[38;5;241m+\u001b[39m src_filepath \u001b[38;5;241m+\u001b[39m \u001b[38;5;124m'\u001b[39m\u001b[38;5;124m from \u001b[39m\u001b[38;5;124m'\u001b[39m \u001b[38;5;241m+\u001b[39m url)\n\u001b[1;32m    946\u001b[0m ftp\u001b[38;5;241m.\u001b[39mquit()\n",
      "\u001b[0;31merror_perm\u001b[0m: 550 Failed to open file. Failed to retrieve /gnss/products/2341/GFZ0MGXRAP_20243230000_01D_05M_ORB.SP3.gz from gdc.cddis.eosdis.nasa.gov",
      "\nDuring handling of the above exception, another exception occurred:\n",
      "\u001b[0;31merror_perm\u001b[0m                                Traceback (most recent call last)",
      "File \u001b[0;32m~/anaconda3/lib/python3.11/site-packages/gnss_lib_py/utils/ephemeris_downloader.py:939\u001b[0m, in \u001b[0;36m_ftp_download\u001b[0;34m(url, ftp_path, dest_filepath, verbose)\u001b[0m\n\u001b[1;32m    938\u001b[0m     \u001b[38;5;28;01mwith\u001b[39;00m \u001b[38;5;28mopen\u001b[39m(dest_filepath, \u001b[38;5;124m'\u001b[39m\u001b[38;5;124mwb\u001b[39m\u001b[38;5;124m'\u001b[39m) \u001b[38;5;28;01mas\u001b[39;00m handle:\n\u001b[0;32m--> 939\u001b[0m         ftp\u001b[38;5;241m.\u001b[39mretrbinary(\n\u001b[1;32m    940\u001b[0m             \u001b[38;5;124m'\u001b[39m\u001b[38;5;124mRETR \u001b[39m\u001b[38;5;124m'\u001b[39m \u001b[38;5;241m+\u001b[39m src_filepath, handle\u001b[38;5;241m.\u001b[39mwrite)\n\u001b[1;32m    941\u001b[0m \u001b[38;5;28;01mexcept\u001b[39;00m ftplib\u001b[38;5;241m.\u001b[39merror_perm \u001b[38;5;28;01mas\u001b[39;00m err:\n",
      "File \u001b[0;32m~/anaconda3/lib/python3.11/ftplib.py:436\u001b[0m, in \u001b[0;36mFTP.retrbinary\u001b[0;34m(self, cmd, callback, blocksize, rest)\u001b[0m\n\u001b[1;32m    435\u001b[0m \u001b[38;5;28mself\u001b[39m\u001b[38;5;241m.\u001b[39mvoidcmd(\u001b[38;5;124m'\u001b[39m\u001b[38;5;124mTYPE I\u001b[39m\u001b[38;5;124m'\u001b[39m)\n\u001b[0;32m--> 436\u001b[0m \u001b[38;5;28;01mwith\u001b[39;00m \u001b[38;5;28mself\u001b[39m\u001b[38;5;241m.\u001b[39mtransfercmd(cmd, rest) \u001b[38;5;28;01mas\u001b[39;00m conn:\n\u001b[1;32m    437\u001b[0m     \u001b[38;5;28;01mwhile\u001b[39;00m \u001b[38;5;241m1\u001b[39m:\n",
      "File \u001b[0;32m~/anaconda3/lib/python3.11/ftplib.py:393\u001b[0m, in \u001b[0;36mFTP.transfercmd\u001b[0;34m(self, cmd, rest)\u001b[0m\n\u001b[1;32m    392\u001b[0m \u001b[38;5;250m\u001b[39m\u001b[38;5;124;03m\"\"\"Like ntransfercmd() but returns only the socket.\"\"\"\u001b[39;00m\n\u001b[0;32m--> 393\u001b[0m \u001b[38;5;28;01mreturn\u001b[39;00m \u001b[38;5;28mself\u001b[39m\u001b[38;5;241m.\u001b[39mntransfercmd(cmd, rest)[\u001b[38;5;241m0\u001b[39m]\n",
      "File \u001b[0;32m~/anaconda3/lib/python3.11/ftplib.py:793\u001b[0m, in \u001b[0;36mFTP_TLS.ntransfercmd\u001b[0;34m(self, cmd, rest)\u001b[0m\n\u001b[1;32m    792\u001b[0m \u001b[38;5;28;01mdef\u001b[39;00m \u001b[38;5;21mntransfercmd\u001b[39m(\u001b[38;5;28mself\u001b[39m, cmd, rest\u001b[38;5;241m=\u001b[39m\u001b[38;5;28;01mNone\u001b[39;00m):\n\u001b[0;32m--> 793\u001b[0m     conn, size \u001b[38;5;241m=\u001b[39m \u001b[38;5;28msuper\u001b[39m()\u001b[38;5;241m.\u001b[39mntransfercmd(cmd, rest)\n\u001b[1;32m    794\u001b[0m     \u001b[38;5;28;01mif\u001b[39;00m \u001b[38;5;28mself\u001b[39m\u001b[38;5;241m.\u001b[39m_prot_p:\n",
      "File \u001b[0;32m~/anaconda3/lib/python3.11/ftplib.py:359\u001b[0m, in \u001b[0;36mFTP.ntransfercmd\u001b[0;34m(self, cmd, rest)\u001b[0m\n\u001b[1;32m    358\u001b[0m     \u001b[38;5;28mself\u001b[39m\u001b[38;5;241m.\u001b[39msendcmd(\u001b[38;5;124m\"\u001b[39m\u001b[38;5;124mREST \u001b[39m\u001b[38;5;132;01m%s\u001b[39;00m\u001b[38;5;124m\"\u001b[39m \u001b[38;5;241m%\u001b[39m rest)\n\u001b[0;32m--> 359\u001b[0m resp \u001b[38;5;241m=\u001b[39m \u001b[38;5;28mself\u001b[39m\u001b[38;5;241m.\u001b[39msendcmd(cmd)\n\u001b[1;32m    360\u001b[0m \u001b[38;5;66;03m# Some servers apparently send a 200 reply to\u001b[39;00m\n\u001b[1;32m    361\u001b[0m \u001b[38;5;66;03m# a LIST or STOR command, before the 150 reply\u001b[39;00m\n\u001b[1;32m    362\u001b[0m \u001b[38;5;66;03m# (and way before the 226 reply). This seems to\u001b[39;00m\n\u001b[1;32m    363\u001b[0m \u001b[38;5;66;03m# be in violation of the protocol (which only allows\u001b[39;00m\n\u001b[1;32m    364\u001b[0m \u001b[38;5;66;03m# 1xx or error messages for LIST), so we just discard\u001b[39;00m\n\u001b[1;32m    365\u001b[0m \u001b[38;5;66;03m# this response.\u001b[39;00m\n",
      "File \u001b[0;32m~/anaconda3/lib/python3.11/ftplib.py:281\u001b[0m, in \u001b[0;36mFTP.sendcmd\u001b[0;34m(self, cmd)\u001b[0m\n\u001b[1;32m    280\u001b[0m \u001b[38;5;28mself\u001b[39m\u001b[38;5;241m.\u001b[39mputcmd(cmd)\n\u001b[0;32m--> 281\u001b[0m \u001b[38;5;28;01mreturn\u001b[39;00m \u001b[38;5;28mself\u001b[39m\u001b[38;5;241m.\u001b[39mgetresp()\n",
      "File \u001b[0;32m~/anaconda3/lib/python3.11/ftplib.py:254\u001b[0m, in \u001b[0;36mFTP.getresp\u001b[0;34m(self)\u001b[0m\n\u001b[1;32m    253\u001b[0m \u001b[38;5;28;01mif\u001b[39;00m c \u001b[38;5;241m==\u001b[39m \u001b[38;5;124m'\u001b[39m\u001b[38;5;124m5\u001b[39m\u001b[38;5;124m'\u001b[39m:\n\u001b[0;32m--> 254\u001b[0m     \u001b[38;5;28;01mraise\u001b[39;00m error_perm(resp)\n\u001b[1;32m    255\u001b[0m \u001b[38;5;28;01mraise\u001b[39;00m error_proto(resp)\n",
      "\u001b[0;31merror_perm\u001b[0m: 550 Failed to open file.",
      "\nDuring handling of the above exception, another exception occurred:\n",
      "\u001b[0;31merror_perm\u001b[0m                                Traceback (most recent call last)",
      "Cell \u001b[0;32mIn[8], line 1\u001b[0m\n\u001b[0;32m----> 1\u001b[0m rover_ephemeris_file \u001b[38;5;241m=\u001b[39m glp\u001b[38;5;241m.\u001b[39mload_ephemeris(file_type\u001b[38;5;241m=\u001b[39m\u001b[38;5;124m\"\u001b[39m\u001b[38;5;124msp3\u001b[39m\u001b[38;5;124m\"\u001b[39m,\n\u001b[1;32m      2\u001b[0m                               gps_millis\u001b[38;5;241m=\u001b[39mnp\u001b[38;5;241m.\u001b[39marray([rover_gps_millis_start, rover_gps_millis_start]),\n\u001b[1;32m      3\u001b[0m                               verbose\u001b[38;5;241m=\u001b[39m\u001b[38;5;28;01mTrue\u001b[39;00m)\n\u001b[1;32m      5\u001b[0m base_ephemeris_file \u001b[38;5;241m=\u001b[39m glp\u001b[38;5;241m.\u001b[39mload_ephemeris(file_type\u001b[38;5;241m=\u001b[39m\u001b[38;5;124m\"\u001b[39m\u001b[38;5;124msp3\u001b[39m\u001b[38;5;124m\"\u001b[39m,\n\u001b[1;32m      6\u001b[0m                               gps_millis\u001b[38;5;241m=\u001b[39mnp\u001b[38;5;241m.\u001b[39marray([base_gps_millis_start, base_gps_millis_start]),\n\u001b[1;32m      7\u001b[0m                               verbose\u001b[38;5;241m=\u001b[39m\u001b[38;5;28;01mTrue\u001b[39;00m)\n",
      "File \u001b[0;32m~/anaconda3/lib/python3.11/site-packages/gnss_lib_py/utils/ephemeris_downloader.py:225\u001b[0m, in \u001b[0;36mload_ephemeris\u001b[0;34m(file_type, gps_millis, constellations, file_paths, download_directory, verbose)\u001b[0m\n\u001b[1;32m    223\u001b[0m         needed_files \u001b[38;5;241m=\u001b[39m needed_gps \u001b[38;5;241m+\u001b[39m needed_glonass\n\u001b[1;32m    224\u001b[0m     \u001b[38;5;66;03m# third download attempt\u001b[39;00m\n\u001b[0;32m--> 225\u001b[0m     downloaded_paths \u001b[38;5;241m=\u001b[39m _download_ephemeris(file_type,\n\u001b[1;32m    226\u001b[0m                                            needed_files,\n\u001b[1;32m    227\u001b[0m                                            download_directory,\n\u001b[1;32m    228\u001b[0m                                            verbose)\n\u001b[1;32m    230\u001b[0m \u001b[38;5;28;01mif\u001b[39;00m verbose:\n\u001b[1;32m    231\u001b[0m     \u001b[38;5;28;01mif\u001b[39;00m \u001b[38;5;28mlen\u001b[39m(existing_paths) \u001b[38;5;241m>\u001b[39m \u001b[38;5;241m0\u001b[39m:\n",
      "File \u001b[0;32m~/anaconda3/lib/python3.11/site-packages/gnss_lib_py/utils/ephemeris_downloader.py:381\u001b[0m, in \u001b[0;36m_download_ephemeris\u001b[0;34m(file_type, needed_files, download_directory, verbose)\u001b[0m\n\u001b[1;32m    379\u001b[0m         \u001b[38;5;28;01mcontinue\u001b[39;00m\n\u001b[1;32m    380\u001b[0m     dest_path_with_extension \u001b[38;5;241m=\u001b[39m os\u001b[38;5;241m.\u001b[39mpath\u001b[38;5;241m.\u001b[39mjoin(directory,os\u001b[38;5;241m.\u001b[39mpath\u001b[38;5;241m.\u001b[39msplit(ftp_path)[\u001b[38;5;241m1\u001b[39m])\n\u001b[0;32m--> 381\u001b[0m     _ftp_download(url, ftp_path, dest_path_with_extension,\n\u001b[1;32m    382\u001b[0m                   verbose)\n\u001b[1;32m    383\u001b[0m     downloaded_paths\u001b[38;5;241m.\u001b[39mappend(dest_filepath)\n\u001b[1;32m    385\u001b[0m \u001b[38;5;28;01mreturn\u001b[39;00m downloaded_paths\n",
      "File \u001b[0;32m~/anaconda3/lib/python3.11/site-packages/gnss_lib_py/utils/ephemeris_downloader.py:943\u001b[0m, in \u001b[0;36m_ftp_download\u001b[0;34m(url, ftp_path, dest_filepath, verbose)\u001b[0m\n\u001b[1;32m    941\u001b[0m \u001b[38;5;28;01mexcept\u001b[39;00m ftplib\u001b[38;5;241m.\u001b[39merror_perm \u001b[38;5;28;01mas\u001b[39;00m err:\n\u001b[1;32m    942\u001b[0m     os\u001b[38;5;241m.\u001b[39mremove(dest_filepath)\n\u001b[0;32m--> 943\u001b[0m     \u001b[38;5;28;01mraise\u001b[39;00m ftplib\u001b[38;5;241m.\u001b[39merror_perm(\u001b[38;5;28mstr\u001b[39m(err) \u001b[38;5;241m+\u001b[39m \u001b[38;5;124m'\u001b[39m\u001b[38;5;124m Failed to retrieve \u001b[39m\u001b[38;5;124m'\u001b[39m \\\n\u001b[1;32m    944\u001b[0m                           \u001b[38;5;241m+\u001b[39m src_filepath \u001b[38;5;241m+\u001b[39m \u001b[38;5;124m'\u001b[39m\u001b[38;5;124m from \u001b[39m\u001b[38;5;124m'\u001b[39m \u001b[38;5;241m+\u001b[39m url)\n\u001b[1;32m    946\u001b[0m ftp\u001b[38;5;241m.\u001b[39mquit()\n\u001b[1;32m    947\u001b[0m \u001b[38;5;28;01mif\u001b[39;00m ftp \u001b[38;5;129;01mis\u001b[39;00m \u001b[38;5;129;01mnot\u001b[39;00m \u001b[38;5;28;01mNone\u001b[39;00m: \u001b[38;5;66;03m# try closing if still active\u001b[39;00m\n",
      "\u001b[0;31merror_perm\u001b[0m: 550 Failed to open file. Failed to retrieve /gnss/products/2341/GFZ0MGXRAP_20243230000_01D_05M_ORB.SP3.gz from gdc.cddis.eosdis.nasa.gov"
     ]
    }
   ],
   "source": [
    "rover_ephemeris_file = glp.load_ephemeris(file_type=\"sp3\",\n",
    "                              gps_millis=np.array([rover_gps_millis_start, rover_gps_millis_start]),\n",
    "                              verbose=True)\n",
    "\n",
    "base_ephemeris_file = glp.load_ephemeris(file_type=\"sp3\",\n",
    "                              gps_millis=np.array([base_gps_millis_start, base_gps_millis_start]),\n",
    "                              verbose=True)"
   ]
  },
  {
   "cell_type": "markdown",
   "metadata": {},
   "source": [
    "### Calculate true ranges"
   ]
  },
  {
   "cell_type": "code",
   "execution_count": 9,
   "metadata": {},
   "outputs": [],
   "source": [
    "BASE_STATION_LOCATION_1 = np.array([37.429711,-122.169381,25]).reshape(3, 1)\n",
    "BASE_STATION_LOCATION_2 = np.array([37.4290631,-122.1723136,25]).reshape(3, 1) # multipath test\n",
    "\n",
    "DURAND = np.array([[37.426906], [-122.173278], [21.010]]) "
   ]
  },
  {
   "cell_type": "code",
   "execution_count": 10,
   "metadata": {},
   "outputs": [
    {
     "name": "stdout",
     "output_type": "stream",
     "text": [
      "ephemeris dates needed: [datetime.date(2024, 11, 17), datetime.date(2024, 11, 18)]\n",
      "using previously downloaded file:\n",
      " /Users/thomashuang/school/AA 272/final/dgnss_aa272/data/ephemeris/rinex/nav/BRDM00DLR_S_20243220000_01D_MN.rnx\n",
      "using previously downloaded file:\n",
      " /Users/thomashuang/school/AA 272/final/dgnss_aa272/data/ephemeris/rinex/nav/BRDM00DLR_S_20243230000_01D_MN.rnx\n",
      "using previously downloaded file:\n",
      " /Users/thomashuang/school/AA 272/final/dgnss_aa272/data/ephemeris/rinex/nav/BRDM00DLR_S_20243220000_01D_MN.rnx\n",
      "using previously downloaded file:\n",
      " /Users/thomashuang/school/AA 272/final/dgnss_aa272/data/ephemeris/rinex/nav/BRDM00DLR_S_20243230000_01D_MN.rnx\n"
     ]
    }
   ],
   "source": [
    "## Load the RinexNav data for that day\n",
    "rinex_nav_paths = glp.load_ephemeris(\n",
    "    \"rinex_nav\",\n",
    "    np.array(np.min(base_data['gps_millis']),np.max(base_data['gps_millis'])),\n",
    "    verbose=True,\n",
    ")\n",
    "rinex_nav = glp.RinexNav(rinex_nav_paths, verbose=True)"
   ]
  },
  {
   "cell_type": "code",
   "execution_count": 11,
   "metadata": {},
   "outputs": [],
   "source": [
    "def find_sv_pos(rinex, sv_id, gnss_id, gps_millis):\n",
    "    \"\"\" finding sv position with ephemeris data FOR DURAND receiver\"\"\"\n",
    "    n = len(sv_id)\n",
    "    position_info = np.zeros((n, 3))\n",
    "    for i in range(n):\n",
    "        sv_at_millis = glp.find_sv_states(gps_millis[i], rinex)\n",
    "        cropped_sv_at_millis = sv_at_millis.where('sv_id', sv_id[i], 'eq')\n",
    "        gnss_id_at_millis = cropped_sv_at_millis.where('gnss_id', gnss_id[i], 'eq')\n",
    "        position_info[i, 0] = np.mean(gnss_id_at_millis['x_sv_m'])\n",
    "        position_info[i, 1] = np.mean(gnss_id_at_millis['y_sv_m'])\n",
    "        position_info[i, 2] = np.mean(gnss_id_at_millis['z_sv_m'])\n",
    "    return position_info\n",
    "\n",
    "# FOR DURAND DATA\n",
    "# def get_measured_pseudorange(df,sv_id):\n",
    "#     \"\"\" get measured pseudorange of specific sv for durand receiver\"\"\"\n",
    "#     filtered_df = df[df.iloc[:,4] == str(sv_id)]\n",
    "#     return filtered_df.iloc[:,14]\n",
    "\n",
    "def distance_to_groundtruth(sv_pos, ground_truth):\n",
    "    \"\"\" calculate ground truth distance from SV to Durand receiver\"\"\"\n",
    "    gt_ecef = glp.geodetic_to_ecef(ground_truth)\n",
    "    distance = np.linalg.norm(sv_pos[:, :, None] - gt_ecef[None, :, :], axis=1)\n",
    "    return distance\n",
    "\n",
    "def correction(true_range, base_pseudorange, rover_pseudorange):\n",
    "    \"\"\" true_range: ground truth distance from distance_to_groundtruth function\n",
    "    base_pseudorange: pseudorange for base station\n",
    "    pseudorange: pseudorange for phone \"\"\"\n",
    "    e = true_range - base_pseudorange\n",
    "    adjusted_pseudorange = rover_pseudorange + e\n",
    "    return adjusted_pseudorange\n",
    "\n",
    "# def get_pseudorange(raw_data, sv_id):\n",
    "#     \"\"\" get measure pseudorange of the rover with specified sv_id\"\"\"\n",
    "#     cropped_data = raw_data.where(\"sv_id\", sv_id, \"eq\")\n",
    "#     pseudorange = compute_pseudoranges(cropped_data)\n",
    "#     return pseudorange"
   ]
  },
  {
   "cell_type": "code",
   "execution_count": 12,
   "metadata": {},
   "outputs": [],
   "source": [
    "\n",
    "sv_pos = find_sv_pos(rinex_nav, base_data['sv_id'], base_data['gnss_id'], base_data['gps_millis'])\n",
    "\n",
    "# sv_pos = find_sv_pos(rover_ephemeris, 6)\n",
    "# true_ranges = distance_to_groundtruth()"
   ]
  },
  {
   "cell_type": "code",
   "execution_count": 40,
   "metadata": {},
   "outputs": [
    {
     "data": {
      "text/plain": [
       "array([14,  6, 16, ..., 29, 30, 34])"
      ]
     },
     "execution_count": 40,
     "metadata": {},
     "output_type": "execute_result"
    }
   ],
   "source": [
    "rover_data['sv_id']"
   ]
  },
  {
   "cell_type": "code",
   "execution_count": 39,
   "metadata": {},
   "outputs": [
    {
     "data": {
      "text/plain": [
       "array([21, 14, 15, ..., 30, 27, 15])"
      ]
     },
     "execution_count": 39,
     "metadata": {},
     "output_type": "execute_result"
    }
   ],
   "source": [
    "base_data['sv_id']"
   ]
  },
  {
   "cell_type": "markdown",
   "metadata": {},
   "source": [
    "### Actual dGNSS shit"
   ]
  },
  {
   "cell_type": "code",
   "execution_count": 28,
   "metadata": {},
   "outputs": [],
   "source": [
    "length = 1000\n",
    "base_pseudorange = compute_pseudoranges(base_data)\n",
    "true_range = distance_to_groundtruth(sv_pos, BASE_STATION_LOCATION_1).flatten()\n",
    "rover_pseudorange = compute_pseudoranges(rover_data)\n",
    "corrected_pseudorange = correction(true_range[:length], base_pseudorange[:length], rover_pseudorange[:length])\n",
    "\n",
    "## are we matching rover and base SVs"
   ]
  },
  {
   "cell_type": "code",
   "execution_count": 29,
   "metadata": {},
   "outputs": [],
   "source": [
    "# Define four arrays\n",
    "\n",
    "x = sv_pos[:length, 0]\n",
    "y = sv_pos[:length, 1]\n",
    "z = sv_pos[:length, 2]\n",
    "\n",
    "# Create DataFrame using the arrays\n",
    "df = pd.DataFrame({\n",
    "    'x_sv_m': x,\n",
    "    'y_sv_m': y,\n",
    "    'z_sv_m': z,\n",
    "    'corr_pr_m': corrected_pseudorange\n",
    "})"
   ]
  },
  {
   "cell_type": "code",
   "execution_count": 30,
   "metadata": {},
   "outputs": [],
   "source": [
    "import numpy as np\n",
    "import pandas as pd\n",
    "\n",
    "def newton_raphson(x0, bu_0, max_iterations, dataset):\n",
    "    \"\"\"\n",
    "    Function description: perform newton raphson to compute position of observer based on available satellite\n",
    "    data, stop function when we have updates in delta_x, delta_bu that are less than a centimeter,\n",
    "    or hit maximum number of iterations\n",
    "\n",
    "    Inputs:\n",
    "    1) x_0: initial guess for position\n",
    "    2) bu_0: initial guess for clock bias\n",
    "    3) max_iterations: maximum number of iterations until covergence\n",
    "    4) dataset_name: name of file to read in\n",
    "\n",
    "    return: \n",
    "    1) optimized position\n",
    "    2) optimized clock bias\n",
    "    3) number of iterations until covergence\n",
    "    \"\"\"\n",
    "    x_est = x0\n",
    "    b_est = bu_0\n",
    "\n",
    "\n",
    "    for i in range(max_iterations):\n",
    "\n",
    "        # Get Geometry Matrix and deltas for rho\n",
    "        geometry_matrix = []\n",
    "        delta_rho = []\n",
    "        for index, sat in dataset.iterrows():\n",
    "            geometry_matrix.append(get_geometry_row(x_est, sat['x_sv_m'], sat['y_sv_m'], sat['z_sv_m']))\n",
    "            delta_rho.append(sat['corr_pr_m'] - get_theoretical_pseudoranges(x_est, b_est, sat['x_sv_m'], sat['y_sv_m'], sat['z_sv_m']))\n",
    "\n",
    "        # Convert into matricies to make it easier to use numpy functions\n",
    "        geometry_matrix = np.array(geometry_matrix)\n",
    "        delta_rho = np.array(delta_rho)\n",
    "\n",
    "        # Update the deltas\n",
    "        delta_x, delta_bu = newton_raphson_step(geometry_matrix, delta_rho)\n",
    "        x_est = np.add(x_est, delta_x)\n",
    "        b_est = b_est + delta_bu\n",
    "    \n",
    "        if True: #i%10 == 0:\n",
    "            print(\"round: \",i+1)\n",
    "            print(\"x_est: \", x_est)\n",
    "            print(\"b_est: \", b_est)\n",
    "\n",
    "        if delta_x[0] < 0.01 and delta_x[1] < 0.01 and delta_x[2] < 0.01 and delta_bu < 0.01:\n",
    "            break\n",
    "    \n",
    "    \n",
    "    print(\"round: \",i+1)\n",
    "    print(\"FINAL - x_est: \", x_est)\n",
    "    print(\"FINAL - b_est: \", b_est)\n",
    "    return x_est\n",
    "\n",
    "\n",
    "def get_geometry_row(x_est, x_sv_m, y_sv_m, z_sv_m):\n",
    "    \"\"\"\n",
    "    Function description: Compute each row for the geometry matrix given a satellite position and\n",
    "    current guess for position estimate\n",
    "\n",
    "    Inputs:\n",
    "    1) x_est: current guess for current position estimate \n",
    "    2) x_sv_m: a set for satellite position x\n",
    "    3) y_sv_m: a set for satellite position y\n",
    "    4) z_sv_m: a set for satellite position z\n",
    "\n",
    "\n",
    "    return: \n",
    "    1) Geometry Matrix G (first 3 columns unit vector)\n",
    "    \"\"\"\n",
    "\n",
    "    x = x_sv_m - x_est[0]\n",
    "    y = y_sv_m - x_est[1]\n",
    "    z = z_sv_m - x_est[2]\n",
    "\n",
    "    magnitude = np.sqrt((x)**2 + (y)**2 + (z)**2)\n",
    "\n",
    "    return ([-x/magnitude, -y/magnitude, -z/magnitude, 1])\n",
    "\n",
    "\n",
    "\n",
    "def get_theoretical_pseudoranges(x_est, b_est, x_sv_m, y_sv_m, z_sv_m):\n",
    "    \"\"\"\n",
    "    Function description: Compute each row for the geometry matrix given a satellite position and\n",
    "    current guess for position estimate\n",
    "\n",
    "    Inputs:\n",
    "    1) x_est: current position estimate \n",
    "    2) b_est: current clock bias estimate \n",
    "    3) x_sv_m: a set for satellite position x\n",
    "    4) y_sv_m: a set for satellite position y\n",
    "    5) z_sv_m: a set for satellite position z\n",
    "\n",
    "    return: \n",
    "    1) Theoretical pseudorange measurement vector\n",
    "    \"\"\"\n",
    "\n",
    "\n",
    "    x = x_sv_m - x_est[0]\n",
    "    y = y_sv_m - x_est[1]\n",
    "    z = z_sv_m - x_est[2]\n",
    "\n",
    "    magnitude = np.sqrt((x)**2 + (y)**2 + (z)**2)\n",
    "    b_k = 0 # assume its zero for all satellites, already corrrected for in data\n",
    "\n",
    "    return magnitude + b_est - b_k\n",
    "\n",
    "def newton_raphson_step(G,delta_rho):\n",
    "    \"\"\"\n",
    "    Function description: Take one step of newton-raphson optimization, compute update of \n",
    "    delta_x and delta_bu\n",
    "\n",
    "    Input:\n",
    "    1) G: geometry matrix\n",
    "    2) delta_rho: difference of theoretical and measured pseudoranges \n",
    "\n",
    "    return:\n",
    "    1) delta_x\n",
    "    2) delta_bu\n",
    "    \"\"\"\n",
    "    G_t = G.transpose()\n",
    "    deltas = np.matmul(np.matmul(np.linalg.inv(np.matmul(G_t, G)),G_t),delta_rho)\n",
    "\n",
    "    delta_x = deltas[0:3]\n",
    "    delta_bu = deltas[3]\n",
    "\n",
    "    return delta_x, delta_bu"
   ]
  },
  {
   "cell_type": "code",
   "execution_count": 31,
   "metadata": {},
   "outputs": [
    {
     "name": "stdout",
     "output_type": "stream",
     "text": [
      "round:  1\n",
      "x_est:  [ 9.69815083e+11  1.82384120e+12 -7.57204176e+11]\n",
      "b_est:  187164142251963.2\n",
      "round:  2\n",
      "x_est:  [1.93722383e+16 6.47340936e+15 2.68771248e+16]\n",
      "b_est:  -4467100321213837.0\n",
      "round:  3\n",
      "x_est:  [ 1.31483078e+18 -1.71487911e+19  1.23149643e+18]\n",
      "b_est:  1.5669694300238362e+18\n",
      "round:  4\n",
      "x_est:  [ 8.70003991e+19 -4.53212313e+18  1.73409259e+20]\n",
      "b_est:  -1.4937827578343617e+19\n",
      "round:  5\n",
      "x_est:  [-1.39352886e+20 -1.40070997e+22 -7.71198075e+20]\n",
      "b_est:  3.3526678375448733e+20\n",
      "round:  6\n",
      "x_est:  [ 6.41764076e+23 -1.54992867e+22  1.29278774e+23]\n",
      "b_est:  -3.901728967357948e+21\n",
      "round:  7\n",
      "x_est:  [ 4.14880894e+25  2.14872904e+27 -1.24951355e+24]\n",
      "b_est:  1.4194671528009324e+25\n",
      "round:  8\n",
      "x_est:  [-5.19156409e+29 -1.24537118e+28 -2.49215115e+30]\n",
      "b_est:  1.9484115803893706e+28\n",
      "round:  9\n",
      "x_est:  [ 7.17634135e+30  1.03118425e+33 -6.46014219e+30]\n",
      "b_est:  4.403316495587776e+29\n",
      "round:  10\n",
      "x_est:  [-5.87980013e+34  8.61925922e+32  4.48711754e+34]\n",
      "b_est:  -1.6277305210167027e+32\n",
      "round:  11\n",
      "x_est:  [-4.14997345e+34 -6.63391519e+35 -1.83414490e+33]\n",
      "b_est:  -2.654262991467519e+34\n",
      "round:  12\n",
      "x_est:  [ 3.90704225e+36 -5.73651928e+35  1.53137227e+37]\n",
      "b_est:  -3.107180002863713e+35\n",
      "round:  13\n",
      "x_est:  [2.78897361e+37 3.01753640e+38 1.42236002e+37]\n",
      "b_est:  -9.758445881544765e+36\n",
      "round:  14\n",
      "x_est:  [ 4.68312137e+38  2.87990440e+38 -7.91337962e+39]\n",
      "b_est:  3.1531154207480117e+37\n",
      "round:  15\n",
      "x_est:  [-1.24964459e+41 -1.31117770e+41 -1.16464978e+40]\n",
      "b_est:  -8.084204399280016e+38\n",
      "round:  15\n",
      "FINAL - x_est:  [-1.24964459e+41 -1.31117770e+41 -1.16464978e+40]\n",
      "FINAL - b_est:  -8.084204399280016e+38\n",
      "Lat/Long Version:  [[-3.67900819e+00 -1.33623525e+02  1.81503792e+41]]\n"
     ]
    }
   ],
   "source": [
    "import gnss_lib_py as glp\n",
    "\n",
    "df_cleaned = df.dropna()\n",
    "x = newton_raphson([0,0,0],0,30,df_cleaned)\n",
    "\n",
    "print(\"Lat/Long Version: \",glp.ecef_to_geodetic(x))"
   ]
  }
 ],
 "metadata": {
  "kernelspec": {
   "display_name": "base",
   "language": "python",
   "name": "python3"
  },
  "language_info": {
   "codemirror_mode": {
    "name": "ipython",
    "version": 3
   },
   "file_extension": ".py",
   "mimetype": "text/x-python",
   "name": "python",
   "nbconvert_exporter": "python",
   "pygments_lexer": "ipython3",
   "version": "3.11.5"
  }
 },
 "nbformat": 4,
 "nbformat_minor": 2
}
