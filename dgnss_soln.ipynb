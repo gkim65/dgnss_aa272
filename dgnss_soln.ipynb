{
 "cells": [
  {
   "cell_type": "code",
   "execution_count": 1,
   "metadata": {},
   "outputs": [
    {
     "name": "stdout",
     "output_type": "stream",
     "text": [
      "/bin/bash: -c: line 2: syntax error: unexpected end of file\n"
     ]
    }
   ],
   "source": [
    "!pip install gnss_lib_py|"
   ]
  },
  {
   "cell_type": "code",
   "execution_count": 2,
   "metadata": {},
   "outputs": [],
   "source": [
    "import numpy as np\n",
    "import gnss_lib_py as glp\n",
    "import matplotlib.pyplot as plt\n",
    "from datetime import datetime, timezone\n",
    "import pandas as pd"
   ]
  },
  {
   "cell_type": "markdown",
   "metadata": {},
   "source": [
    "https://drive.google.com/drive/folders/17vNrS_-Kq0msv2r9VHDkry3aEAxUcdAS"
   ]
  },
  {
   "cell_type": "markdown",
   "metadata": {},
   "source": [
    "### Pseudorange computation"
   ]
  },
  {
   "cell_type": "code",
   "execution_count": 5,
   "metadata": {},
   "outputs": [],
   "source": [
    "def compute_pseudoranges(raw_data):\n",
    "    nanosecs_in_week = 604800e9\n",
    "    speed_of_light = 299792458\n",
    "    week_no = np.floor(-raw_data['FullBiasNanos']/nanosecs_in_week)\n",
    "    corrected_rx_time = raw_data['TimeNanos'] + raw_data['TimeOffsetNanos']\n",
    "    adjusted_rx_bias = raw_data['FullBiasNanos'] + raw_data['BiasNanos']\n",
    "    rx_time_gps_frame = corrected_rx_time - adjusted_rx_bias\n",
    "    rx_time_week_frame = rx_time_gps_frame - week_no * nanosecs_in_week\n",
    "    rho_nanosecs = rx_time_week_frame - raw_data['ReceivedSvTimeNanos']\n",
    "    rho_m = rho_nanosecs * speed_of_light/1e9\n",
    "    return rho_m"
   ]
  },
  {
   "cell_type": "code",
   "execution_count": 198,
   "metadata": {},
   "outputs": [],
   "source": [
    "rover_path = './Oval/RoundLoop1_gnss_log_2024_11_17_16_52_31.txt'\n",
    "base_path = './Oval/RoundLoop1_BaseStation_gnss_log_2024_11_17_16_52_30.txt'"
   ]
  },
  {
   "cell_type": "code",
   "execution_count": 199,
   "metadata": {},
   "outputs": [
    {
     "name": "stdout",
     "output_type": "stream",
     "text": [
      "sv_time_uncertainty removed 1\n",
      "sv_time_uncertainty removed 1\n"
     ]
    }
   ],
   "source": [
    "rover_data = glp.AndroidRawGnss(input_path=rover_path,\n",
    "                              filter_measurements=True,\n",
    "                              measurement_filters={\"sv_time_uncertainty\" : 500.},\n",
    "                              verbose=True)\n",
    "\n",
    "base_data = glp.AndroidRawGnss(input_path=base_path,\n",
    "                              filter_measurements=True,\n",
    "                              measurement_filters={\"sv_time_uncertainty\" : 500.},\n",
    "                              verbose=True)\n",
    "\n",
    "rover_rho = compute_pseudoranges(rover_data)\n",
    "base_rho = compute_pseudoranges(base_data)"
   ]
  },
  {
   "cell_type": "markdown",
   "metadata": {},
   "source": [
    "### Pull the ephemeris (don't work)"
   ]
  },
  {
   "cell_type": "code",
   "execution_count": 115,
   "metadata": {},
   "outputs": [],
   "source": [
    "rover_gps_millis_start, rover_gps_millis_end = rover_data['gps_millis'][0], rover_data['gps_millis'][-1] \n",
    "base_gps_millis_start, base_gps_millis_end = base_data['gps_millis'][0], base_data['gps_millis'][-1]"
   ]
  },
  {
   "cell_type": "code",
   "execution_count": 116,
   "metadata": {},
   "outputs": [
    {
     "name": "stdout",
     "output_type": "stream",
     "text": [
      "ephemeris dates needed: [datetime.date(2024, 11, 17), datetime.date(2024, 11, 18)]\n",
      "using previously downloaded file:\n",
      " /home/gigavoltflash/stanford_classes/AA_272/dgnss_aa272/data/ephemeris/sp3/COD0OPSRAP_20243220000_01D_05M_ORB.SP3\n",
      "FTP downloading /gnss/products/2341/COD0OPSRAP_20243230000_01D_05M_ORB.SP3.gz from gdc.cddis.eosdis.nasa.gov\n",
      "550 Failed to open file. Failed to retrieve /gnss/products/2341/COD0OPSRAP_20243230000_01D_05M_ORB.SP3.gz from gdc.cddis.eosdis.nasa.gov\n",
      "using previously downloaded file:\n",
      " /home/gigavoltflash/stanford_classes/AA_272/dgnss_aa272/data/ephemeris/sp3/COD0OPSRAP_20243220000_01D_05M_ORB.SP3\n",
      "FTP downloading /gnss/products/2341/COD0OPSRAP_20243230000_01D_05M_ORB.SP3.gz from gdc.cddis.eosdis.nasa.gov\n",
      "using previously downloaded file:\n",
      " /home/gigavoltflash/stanford_classes/AA_272/dgnss_aa272/data/ephemeris/sp3/COD0OPSRAP_20243220000_01D_05M_ORB.SP3\n",
      "FTP downloading /gnss/products/2341/COD0OPSRAP_20243230000_01D_05M_ORB.SP3.gz from gdc.cddis.eosdis.nasa.gov\n"
     ]
    },
    {
     "ename": "error_perm",
     "evalue": "550 Failed to open file. Failed to retrieve /gnss/products/2341/COD0OPSRAP_20243230000_01D_05M_ORB.SP3.gz from gdc.cddis.eosdis.nasa.gov",
     "output_type": "error",
     "traceback": [
      "\u001b[0;31m---------------------------------------------------------------------------\u001b[0m",
      "\u001b[0;31merror_perm\u001b[0m                                Traceback (most recent call last)",
      "File \u001b[0;32m~/miniconda3/lib/python3.9/site-packages/gnss_lib_py/utils/ephemeris_downloader.py:939\u001b[0m, in \u001b[0;36m_ftp_download\u001b[0;34m(url, ftp_path, dest_filepath, verbose)\u001b[0m\n\u001b[1;32m    938\u001b[0m     \u001b[38;5;28;01mwith\u001b[39;00m \u001b[38;5;28mopen\u001b[39m(dest_filepath, \u001b[38;5;124m'\u001b[39m\u001b[38;5;124mwb\u001b[39m\u001b[38;5;124m'\u001b[39m) \u001b[38;5;28;01mas\u001b[39;00m handle:\n\u001b[0;32m--> 939\u001b[0m         \u001b[43mftp\u001b[49m\u001b[38;5;241;43m.\u001b[39;49m\u001b[43mretrbinary\u001b[49m\u001b[43m(\u001b[49m\n\u001b[1;32m    940\u001b[0m \u001b[43m            \u001b[49m\u001b[38;5;124;43m'\u001b[39;49m\u001b[38;5;124;43mRETR \u001b[39;49m\u001b[38;5;124;43m'\u001b[39;49m\u001b[43m \u001b[49m\u001b[38;5;241;43m+\u001b[39;49m\u001b[43m \u001b[49m\u001b[43msrc_filepath\u001b[49m\u001b[43m,\u001b[49m\u001b[43m \u001b[49m\u001b[43mhandle\u001b[49m\u001b[38;5;241;43m.\u001b[39;49m\u001b[43mwrite\u001b[49m\u001b[43m)\u001b[49m\n\u001b[1;32m    941\u001b[0m \u001b[38;5;28;01mexcept\u001b[39;00m ftplib\u001b[38;5;241m.\u001b[39merror_perm \u001b[38;5;28;01mas\u001b[39;00m err:\n",
      "File \u001b[0;32m~/miniconda3/lib/python3.9/ftplib.py:436\u001b[0m, in \u001b[0;36mFTP.retrbinary\u001b[0;34m(self, cmd, callback, blocksize, rest)\u001b[0m\n\u001b[1;32m    435\u001b[0m \u001b[38;5;28mself\u001b[39m\u001b[38;5;241m.\u001b[39mvoidcmd(\u001b[38;5;124m'\u001b[39m\u001b[38;5;124mTYPE I\u001b[39m\u001b[38;5;124m'\u001b[39m)\n\u001b[0;32m--> 436\u001b[0m \u001b[38;5;28;01mwith\u001b[39;00m \u001b[38;5;28;43mself\u001b[39;49m\u001b[38;5;241;43m.\u001b[39;49m\u001b[43mtransfercmd\u001b[49m\u001b[43m(\u001b[49m\u001b[43mcmd\u001b[49m\u001b[43m,\u001b[49m\u001b[43m \u001b[49m\u001b[43mrest\u001b[49m\u001b[43m)\u001b[49m \u001b[38;5;28;01mas\u001b[39;00m conn:\n\u001b[1;32m    437\u001b[0m     \u001b[38;5;28;01mwhile\u001b[39;00m \u001b[38;5;241m1\u001b[39m:\n",
      "File \u001b[0;32m~/miniconda3/lib/python3.9/ftplib.py:393\u001b[0m, in \u001b[0;36mFTP.transfercmd\u001b[0;34m(self, cmd, rest)\u001b[0m\n\u001b[1;32m    392\u001b[0m \u001b[38;5;250m\u001b[39m\u001b[38;5;124;03m\"\"\"Like ntransfercmd() but returns only the socket.\"\"\"\u001b[39;00m\n\u001b[0;32m--> 393\u001b[0m \u001b[38;5;28;01mreturn\u001b[39;00m \u001b[38;5;28;43mself\u001b[39;49m\u001b[38;5;241;43m.\u001b[39;49m\u001b[43mntransfercmd\u001b[49m\u001b[43m(\u001b[49m\u001b[43mcmd\u001b[49m\u001b[43m,\u001b[49m\u001b[43m \u001b[49m\u001b[43mrest\u001b[49m\u001b[43m)\u001b[49m[\u001b[38;5;241m0\u001b[39m]\n",
      "File \u001b[0;32m~/miniconda3/lib/python3.9/ftplib.py:793\u001b[0m, in \u001b[0;36mFTP_TLS.ntransfercmd\u001b[0;34m(self, cmd, rest)\u001b[0m\n\u001b[1;32m    792\u001b[0m \u001b[38;5;28;01mdef\u001b[39;00m \u001b[38;5;21mntransfercmd\u001b[39m(\u001b[38;5;28mself\u001b[39m, cmd, rest\u001b[38;5;241m=\u001b[39m\u001b[38;5;28;01mNone\u001b[39;00m):\n\u001b[0;32m--> 793\u001b[0m     conn, size \u001b[38;5;241m=\u001b[39m \u001b[38;5;28;43msuper\u001b[39;49m\u001b[43m(\u001b[49m\u001b[43m)\u001b[49m\u001b[38;5;241;43m.\u001b[39;49m\u001b[43mntransfercmd\u001b[49m\u001b[43m(\u001b[49m\u001b[43mcmd\u001b[49m\u001b[43m,\u001b[49m\u001b[43m \u001b[49m\u001b[43mrest\u001b[49m\u001b[43m)\u001b[49m\n\u001b[1;32m    794\u001b[0m     \u001b[38;5;28;01mif\u001b[39;00m \u001b[38;5;28mself\u001b[39m\u001b[38;5;241m.\u001b[39m_prot_p:\n",
      "File \u001b[0;32m~/miniconda3/lib/python3.9/ftplib.py:359\u001b[0m, in \u001b[0;36mFTP.ntransfercmd\u001b[0;34m(self, cmd, rest)\u001b[0m\n\u001b[1;32m    358\u001b[0m     \u001b[38;5;28mself\u001b[39m\u001b[38;5;241m.\u001b[39msendcmd(\u001b[38;5;124m\"\u001b[39m\u001b[38;5;124mREST \u001b[39m\u001b[38;5;132;01m%s\u001b[39;00m\u001b[38;5;124m\"\u001b[39m \u001b[38;5;241m%\u001b[39m rest)\n\u001b[0;32m--> 359\u001b[0m resp \u001b[38;5;241m=\u001b[39m \u001b[38;5;28;43mself\u001b[39;49m\u001b[38;5;241;43m.\u001b[39;49m\u001b[43msendcmd\u001b[49m\u001b[43m(\u001b[49m\u001b[43mcmd\u001b[49m\u001b[43m)\u001b[49m\n\u001b[1;32m    360\u001b[0m \u001b[38;5;66;03m# Some servers apparently send a 200 reply to\u001b[39;00m\n\u001b[1;32m    361\u001b[0m \u001b[38;5;66;03m# a LIST or STOR command, before the 150 reply\u001b[39;00m\n\u001b[1;32m    362\u001b[0m \u001b[38;5;66;03m# (and way before the 226 reply). This seems to\u001b[39;00m\n\u001b[1;32m    363\u001b[0m \u001b[38;5;66;03m# be in violation of the protocol (which only allows\u001b[39;00m\n\u001b[1;32m    364\u001b[0m \u001b[38;5;66;03m# 1xx or error messages for LIST), so we just discard\u001b[39;00m\n\u001b[1;32m    365\u001b[0m \u001b[38;5;66;03m# this response.\u001b[39;00m\n",
      "File \u001b[0;32m~/miniconda3/lib/python3.9/ftplib.py:281\u001b[0m, in \u001b[0;36mFTP.sendcmd\u001b[0;34m(self, cmd)\u001b[0m\n\u001b[1;32m    280\u001b[0m \u001b[38;5;28mself\u001b[39m\u001b[38;5;241m.\u001b[39mputcmd(cmd)\n\u001b[0;32m--> 281\u001b[0m \u001b[38;5;28;01mreturn\u001b[39;00m \u001b[38;5;28;43mself\u001b[39;49m\u001b[38;5;241;43m.\u001b[39;49m\u001b[43mgetresp\u001b[49m\u001b[43m(\u001b[49m\u001b[43m)\u001b[49m\n",
      "File \u001b[0;32m~/miniconda3/lib/python3.9/ftplib.py:254\u001b[0m, in \u001b[0;36mFTP.getresp\u001b[0;34m(self)\u001b[0m\n\u001b[1;32m    253\u001b[0m \u001b[38;5;28;01mif\u001b[39;00m c \u001b[38;5;241m==\u001b[39m \u001b[38;5;124m'\u001b[39m\u001b[38;5;124m5\u001b[39m\u001b[38;5;124m'\u001b[39m:\n\u001b[0;32m--> 254\u001b[0m     \u001b[38;5;28;01mraise\u001b[39;00m error_perm(resp)\n\u001b[1;32m    255\u001b[0m \u001b[38;5;28;01mraise\u001b[39;00m error_proto(resp)\n",
      "\u001b[0;31merror_perm\u001b[0m: 550 Failed to open file.",
      "\nDuring handling of the above exception, another exception occurred:\n",
      "\u001b[0;31merror_perm\u001b[0m                                Traceback (most recent call last)",
      "File \u001b[0;32m~/miniconda3/lib/python3.9/site-packages/gnss_lib_py/utils/ephemeris_downloader.py:205\u001b[0m, in \u001b[0;36mload_ephemeris\u001b[0;34m(file_type, gps_millis, constellations, file_paths, download_directory, verbose)\u001b[0m\n\u001b[1;32m    203\u001b[0m \u001b[38;5;28;01mtry\u001b[39;00m:\n\u001b[1;32m    204\u001b[0m     \u001b[38;5;66;03m# second download attempt\u001b[39;00m\n\u001b[0;32m--> 205\u001b[0m     downloaded_paths \u001b[38;5;241m=\u001b[39m \u001b[43m_download_ephemeris\u001b[49m\u001b[43m(\u001b[49m\u001b[43mfile_type\u001b[49m\u001b[43m,\u001b[49m\n\u001b[1;32m    206\u001b[0m \u001b[43m                                           \u001b[49m\u001b[43mneeded_files\u001b[49m\u001b[43m,\u001b[49m\n\u001b[1;32m    207\u001b[0m \u001b[43m                                           \u001b[49m\u001b[43mdownload_directory\u001b[49m\u001b[43m,\u001b[49m\n\u001b[1;32m    208\u001b[0m \u001b[43m                                           \u001b[49m\u001b[43mverbose\u001b[49m\u001b[43m)\u001b[49m\n\u001b[1;32m    209\u001b[0m \u001b[38;5;28;01mexcept\u001b[39;00m ftplib\u001b[38;5;241m.\u001b[39merror_perm \u001b[38;5;28;01mas\u001b[39;00m err:\n\u001b[1;32m    210\u001b[0m     \u001b[38;5;66;03m# on Nov 26, 2013 - Dec 5, 2013 the entire DDD/YYp/ directory\u001b[39;00m\n\u001b[1;32m    211\u001b[0m     \u001b[38;5;66;03m# is missing, so use gps and glonass only in that case.\u001b[39;00m\n",
      "File \u001b[0;32m~/miniconda3/lib/python3.9/site-packages/gnss_lib_py/utils/ephemeris_downloader.py:381\u001b[0m, in \u001b[0;36m_download_ephemeris\u001b[0;34m(file_type, needed_files, download_directory, verbose)\u001b[0m\n\u001b[1;32m    380\u001b[0m dest_path_with_extension \u001b[38;5;241m=\u001b[39m os\u001b[38;5;241m.\u001b[39mpath\u001b[38;5;241m.\u001b[39mjoin(directory,os\u001b[38;5;241m.\u001b[39mpath\u001b[38;5;241m.\u001b[39msplit(ftp_path)[\u001b[38;5;241m1\u001b[39m])\n\u001b[0;32m--> 381\u001b[0m \u001b[43m_ftp_download\u001b[49m\u001b[43m(\u001b[49m\u001b[43murl\u001b[49m\u001b[43m,\u001b[49m\u001b[43m \u001b[49m\u001b[43mftp_path\u001b[49m\u001b[43m,\u001b[49m\u001b[43m \u001b[49m\u001b[43mdest_path_with_extension\u001b[49m\u001b[43m,\u001b[49m\n\u001b[1;32m    382\u001b[0m \u001b[43m              \u001b[49m\u001b[43mverbose\u001b[49m\u001b[43m)\u001b[49m\n\u001b[1;32m    383\u001b[0m downloaded_paths\u001b[38;5;241m.\u001b[39mappend(dest_filepath)\n",
      "File \u001b[0;32m~/miniconda3/lib/python3.9/site-packages/gnss_lib_py/utils/ephemeris_downloader.py:943\u001b[0m, in \u001b[0;36m_ftp_download\u001b[0;34m(url, ftp_path, dest_filepath, verbose)\u001b[0m\n\u001b[1;32m    942\u001b[0m     os\u001b[38;5;241m.\u001b[39mremove(dest_filepath)\n\u001b[0;32m--> 943\u001b[0m     \u001b[38;5;28;01mraise\u001b[39;00m ftplib\u001b[38;5;241m.\u001b[39merror_perm(\u001b[38;5;28mstr\u001b[39m(err) \u001b[38;5;241m+\u001b[39m \u001b[38;5;124m'\u001b[39m\u001b[38;5;124m Failed to retrieve \u001b[39m\u001b[38;5;124m'\u001b[39m \\\n\u001b[1;32m    944\u001b[0m                           \u001b[38;5;241m+\u001b[39m src_filepath \u001b[38;5;241m+\u001b[39m \u001b[38;5;124m'\u001b[39m\u001b[38;5;124m from \u001b[39m\u001b[38;5;124m'\u001b[39m \u001b[38;5;241m+\u001b[39m url)\n\u001b[1;32m    946\u001b[0m ftp\u001b[38;5;241m.\u001b[39mquit()\n",
      "\u001b[0;31merror_perm\u001b[0m: 550 Failed to open file. Failed to retrieve /gnss/products/2341/COD0OPSRAP_20243230000_01D_05M_ORB.SP3.gz from gdc.cddis.eosdis.nasa.gov",
      "\nDuring handling of the above exception, another exception occurred:\n",
      "\u001b[0;31merror_perm\u001b[0m                                Traceback (most recent call last)",
      "File \u001b[0;32m~/miniconda3/lib/python3.9/site-packages/gnss_lib_py/utils/ephemeris_downloader.py:939\u001b[0m, in \u001b[0;36m_ftp_download\u001b[0;34m(url, ftp_path, dest_filepath, verbose)\u001b[0m\n\u001b[1;32m    938\u001b[0m     \u001b[38;5;28;01mwith\u001b[39;00m \u001b[38;5;28mopen\u001b[39m(dest_filepath, \u001b[38;5;124m'\u001b[39m\u001b[38;5;124mwb\u001b[39m\u001b[38;5;124m'\u001b[39m) \u001b[38;5;28;01mas\u001b[39;00m handle:\n\u001b[0;32m--> 939\u001b[0m         \u001b[43mftp\u001b[49m\u001b[38;5;241;43m.\u001b[39;49m\u001b[43mretrbinary\u001b[49m\u001b[43m(\u001b[49m\n\u001b[1;32m    940\u001b[0m \u001b[43m            \u001b[49m\u001b[38;5;124;43m'\u001b[39;49m\u001b[38;5;124;43mRETR \u001b[39;49m\u001b[38;5;124;43m'\u001b[39;49m\u001b[43m \u001b[49m\u001b[38;5;241;43m+\u001b[39;49m\u001b[43m \u001b[49m\u001b[43msrc_filepath\u001b[49m\u001b[43m,\u001b[49m\u001b[43m \u001b[49m\u001b[43mhandle\u001b[49m\u001b[38;5;241;43m.\u001b[39;49m\u001b[43mwrite\u001b[49m\u001b[43m)\u001b[49m\n\u001b[1;32m    941\u001b[0m \u001b[38;5;28;01mexcept\u001b[39;00m ftplib\u001b[38;5;241m.\u001b[39merror_perm \u001b[38;5;28;01mas\u001b[39;00m err:\n",
      "File \u001b[0;32m~/miniconda3/lib/python3.9/ftplib.py:436\u001b[0m, in \u001b[0;36mFTP.retrbinary\u001b[0;34m(self, cmd, callback, blocksize, rest)\u001b[0m\n\u001b[1;32m    435\u001b[0m \u001b[38;5;28mself\u001b[39m\u001b[38;5;241m.\u001b[39mvoidcmd(\u001b[38;5;124m'\u001b[39m\u001b[38;5;124mTYPE I\u001b[39m\u001b[38;5;124m'\u001b[39m)\n\u001b[0;32m--> 436\u001b[0m \u001b[38;5;28;01mwith\u001b[39;00m \u001b[38;5;28;43mself\u001b[39;49m\u001b[38;5;241;43m.\u001b[39;49m\u001b[43mtransfercmd\u001b[49m\u001b[43m(\u001b[49m\u001b[43mcmd\u001b[49m\u001b[43m,\u001b[49m\u001b[43m \u001b[49m\u001b[43mrest\u001b[49m\u001b[43m)\u001b[49m \u001b[38;5;28;01mas\u001b[39;00m conn:\n\u001b[1;32m    437\u001b[0m     \u001b[38;5;28;01mwhile\u001b[39;00m \u001b[38;5;241m1\u001b[39m:\n",
      "File \u001b[0;32m~/miniconda3/lib/python3.9/ftplib.py:393\u001b[0m, in \u001b[0;36mFTP.transfercmd\u001b[0;34m(self, cmd, rest)\u001b[0m\n\u001b[1;32m    392\u001b[0m \u001b[38;5;250m\u001b[39m\u001b[38;5;124;03m\"\"\"Like ntransfercmd() but returns only the socket.\"\"\"\u001b[39;00m\n\u001b[0;32m--> 393\u001b[0m \u001b[38;5;28;01mreturn\u001b[39;00m \u001b[38;5;28;43mself\u001b[39;49m\u001b[38;5;241;43m.\u001b[39;49m\u001b[43mntransfercmd\u001b[49m\u001b[43m(\u001b[49m\u001b[43mcmd\u001b[49m\u001b[43m,\u001b[49m\u001b[43m \u001b[49m\u001b[43mrest\u001b[49m\u001b[43m)\u001b[49m[\u001b[38;5;241m0\u001b[39m]\n",
      "File \u001b[0;32m~/miniconda3/lib/python3.9/ftplib.py:793\u001b[0m, in \u001b[0;36mFTP_TLS.ntransfercmd\u001b[0;34m(self, cmd, rest)\u001b[0m\n\u001b[1;32m    792\u001b[0m \u001b[38;5;28;01mdef\u001b[39;00m \u001b[38;5;21mntransfercmd\u001b[39m(\u001b[38;5;28mself\u001b[39m, cmd, rest\u001b[38;5;241m=\u001b[39m\u001b[38;5;28;01mNone\u001b[39;00m):\n\u001b[0;32m--> 793\u001b[0m     conn, size \u001b[38;5;241m=\u001b[39m \u001b[38;5;28;43msuper\u001b[39;49m\u001b[43m(\u001b[49m\u001b[43m)\u001b[49m\u001b[38;5;241;43m.\u001b[39;49m\u001b[43mntransfercmd\u001b[49m\u001b[43m(\u001b[49m\u001b[43mcmd\u001b[49m\u001b[43m,\u001b[49m\u001b[43m \u001b[49m\u001b[43mrest\u001b[49m\u001b[43m)\u001b[49m\n\u001b[1;32m    794\u001b[0m     \u001b[38;5;28;01mif\u001b[39;00m \u001b[38;5;28mself\u001b[39m\u001b[38;5;241m.\u001b[39m_prot_p:\n",
      "File \u001b[0;32m~/miniconda3/lib/python3.9/ftplib.py:359\u001b[0m, in \u001b[0;36mFTP.ntransfercmd\u001b[0;34m(self, cmd, rest)\u001b[0m\n\u001b[1;32m    358\u001b[0m     \u001b[38;5;28mself\u001b[39m\u001b[38;5;241m.\u001b[39msendcmd(\u001b[38;5;124m\"\u001b[39m\u001b[38;5;124mREST \u001b[39m\u001b[38;5;132;01m%s\u001b[39;00m\u001b[38;5;124m\"\u001b[39m \u001b[38;5;241m%\u001b[39m rest)\n\u001b[0;32m--> 359\u001b[0m resp \u001b[38;5;241m=\u001b[39m \u001b[38;5;28;43mself\u001b[39;49m\u001b[38;5;241;43m.\u001b[39;49m\u001b[43msendcmd\u001b[49m\u001b[43m(\u001b[49m\u001b[43mcmd\u001b[49m\u001b[43m)\u001b[49m\n\u001b[1;32m    360\u001b[0m \u001b[38;5;66;03m# Some servers apparently send a 200 reply to\u001b[39;00m\n\u001b[1;32m    361\u001b[0m \u001b[38;5;66;03m# a LIST or STOR command, before the 150 reply\u001b[39;00m\n\u001b[1;32m    362\u001b[0m \u001b[38;5;66;03m# (and way before the 226 reply). This seems to\u001b[39;00m\n\u001b[1;32m    363\u001b[0m \u001b[38;5;66;03m# be in violation of the protocol (which only allows\u001b[39;00m\n\u001b[1;32m    364\u001b[0m \u001b[38;5;66;03m# 1xx or error messages for LIST), so we just discard\u001b[39;00m\n\u001b[1;32m    365\u001b[0m \u001b[38;5;66;03m# this response.\u001b[39;00m\n",
      "File \u001b[0;32m~/miniconda3/lib/python3.9/ftplib.py:281\u001b[0m, in \u001b[0;36mFTP.sendcmd\u001b[0;34m(self, cmd)\u001b[0m\n\u001b[1;32m    280\u001b[0m \u001b[38;5;28mself\u001b[39m\u001b[38;5;241m.\u001b[39mputcmd(cmd)\n\u001b[0;32m--> 281\u001b[0m \u001b[38;5;28;01mreturn\u001b[39;00m \u001b[38;5;28;43mself\u001b[39;49m\u001b[38;5;241;43m.\u001b[39;49m\u001b[43mgetresp\u001b[49m\u001b[43m(\u001b[49m\u001b[43m)\u001b[49m\n",
      "File \u001b[0;32m~/miniconda3/lib/python3.9/ftplib.py:254\u001b[0m, in \u001b[0;36mFTP.getresp\u001b[0;34m(self)\u001b[0m\n\u001b[1;32m    253\u001b[0m \u001b[38;5;28;01mif\u001b[39;00m c \u001b[38;5;241m==\u001b[39m \u001b[38;5;124m'\u001b[39m\u001b[38;5;124m5\u001b[39m\u001b[38;5;124m'\u001b[39m:\n\u001b[0;32m--> 254\u001b[0m     \u001b[38;5;28;01mraise\u001b[39;00m error_perm(resp)\n\u001b[1;32m    255\u001b[0m \u001b[38;5;28;01mraise\u001b[39;00m error_proto(resp)\n",
      "\u001b[0;31merror_perm\u001b[0m: 550 Failed to open file.",
      "\nDuring handling of the above exception, another exception occurred:\n",
      "\u001b[0;31merror_perm\u001b[0m                                Traceback (most recent call last)",
      "Cell \u001b[0;32mIn[116], line 1\u001b[0m\n\u001b[0;32m----> 1\u001b[0m rover_ephemeris_file \u001b[38;5;241m=\u001b[39m \u001b[43mglp\u001b[49m\u001b[38;5;241;43m.\u001b[39;49m\u001b[43mload_ephemeris\u001b[49m\u001b[43m(\u001b[49m\u001b[43mfile_type\u001b[49m\u001b[38;5;241;43m=\u001b[39;49m\u001b[38;5;124;43m\"\u001b[39;49m\u001b[38;5;124;43msp3\u001b[39;49m\u001b[38;5;124;43m\"\u001b[39;49m\u001b[43m,\u001b[49m\n\u001b[1;32m      2\u001b[0m \u001b[43m                              \u001b[49m\u001b[43mgps_millis\u001b[49m\u001b[38;5;241;43m=\u001b[39;49m\u001b[43mnp\u001b[49m\u001b[38;5;241;43m.\u001b[39;49m\u001b[43marray\u001b[49m\u001b[43m(\u001b[49m\u001b[43m[\u001b[49m\u001b[43mrover_gps_millis_start\u001b[49m\u001b[43m,\u001b[49m\u001b[43m \u001b[49m\u001b[43mrover_gps_millis_start\u001b[49m\u001b[43m]\u001b[49m\u001b[43m)\u001b[49m\u001b[43m,\u001b[49m\n\u001b[1;32m      3\u001b[0m \u001b[43m                              \u001b[49m\u001b[43mverbose\u001b[49m\u001b[38;5;241;43m=\u001b[39;49m\u001b[38;5;28;43;01mTrue\u001b[39;49;00m\u001b[43m)\u001b[49m\n\u001b[1;32m      5\u001b[0m base_ephemeris_file \u001b[38;5;241m=\u001b[39m glp\u001b[38;5;241m.\u001b[39mload_ephemeris(file_type\u001b[38;5;241m=\u001b[39m\u001b[38;5;124m\"\u001b[39m\u001b[38;5;124msp3\u001b[39m\u001b[38;5;124m\"\u001b[39m,\n\u001b[1;32m      6\u001b[0m                               gps_millis\u001b[38;5;241m=\u001b[39mnp\u001b[38;5;241m.\u001b[39marray([base_gps_millis_start, base_gps_millis_start]),\n\u001b[1;32m      7\u001b[0m                               verbose\u001b[38;5;241m=\u001b[39m\u001b[38;5;28;01mTrue\u001b[39;00m)\n",
      "File \u001b[0;32m~/miniconda3/lib/python3.9/site-packages/gnss_lib_py/utils/ephemeris_downloader.py:225\u001b[0m, in \u001b[0;36mload_ephemeris\u001b[0;34m(file_type, gps_millis, constellations, file_paths, download_directory, verbose)\u001b[0m\n\u001b[1;32m    223\u001b[0m         needed_files \u001b[38;5;241m=\u001b[39m needed_gps \u001b[38;5;241m+\u001b[39m needed_glonass\n\u001b[1;32m    224\u001b[0m     \u001b[38;5;66;03m# third download attempt\u001b[39;00m\n\u001b[0;32m--> 225\u001b[0m     downloaded_paths \u001b[38;5;241m=\u001b[39m \u001b[43m_download_ephemeris\u001b[49m\u001b[43m(\u001b[49m\u001b[43mfile_type\u001b[49m\u001b[43m,\u001b[49m\n\u001b[1;32m    226\u001b[0m \u001b[43m                                           \u001b[49m\u001b[43mneeded_files\u001b[49m\u001b[43m,\u001b[49m\n\u001b[1;32m    227\u001b[0m \u001b[43m                                           \u001b[49m\u001b[43mdownload_directory\u001b[49m\u001b[43m,\u001b[49m\n\u001b[1;32m    228\u001b[0m \u001b[43m                                           \u001b[49m\u001b[43mverbose\u001b[49m\u001b[43m)\u001b[49m\n\u001b[1;32m    230\u001b[0m \u001b[38;5;28;01mif\u001b[39;00m verbose:\n\u001b[1;32m    231\u001b[0m     \u001b[38;5;28;01mif\u001b[39;00m \u001b[38;5;28mlen\u001b[39m(existing_paths) \u001b[38;5;241m>\u001b[39m \u001b[38;5;241m0\u001b[39m:\n",
      "File \u001b[0;32m~/miniconda3/lib/python3.9/site-packages/gnss_lib_py/utils/ephemeris_downloader.py:381\u001b[0m, in \u001b[0;36m_download_ephemeris\u001b[0;34m(file_type, needed_files, download_directory, verbose)\u001b[0m\n\u001b[1;32m    379\u001b[0m         \u001b[38;5;28;01mcontinue\u001b[39;00m\n\u001b[1;32m    380\u001b[0m     dest_path_with_extension \u001b[38;5;241m=\u001b[39m os\u001b[38;5;241m.\u001b[39mpath\u001b[38;5;241m.\u001b[39mjoin(directory,os\u001b[38;5;241m.\u001b[39mpath\u001b[38;5;241m.\u001b[39msplit(ftp_path)[\u001b[38;5;241m1\u001b[39m])\n\u001b[0;32m--> 381\u001b[0m     \u001b[43m_ftp_download\u001b[49m\u001b[43m(\u001b[49m\u001b[43murl\u001b[49m\u001b[43m,\u001b[49m\u001b[43m \u001b[49m\u001b[43mftp_path\u001b[49m\u001b[43m,\u001b[49m\u001b[43m \u001b[49m\u001b[43mdest_path_with_extension\u001b[49m\u001b[43m,\u001b[49m\n\u001b[1;32m    382\u001b[0m \u001b[43m                  \u001b[49m\u001b[43mverbose\u001b[49m\u001b[43m)\u001b[49m\n\u001b[1;32m    383\u001b[0m     downloaded_paths\u001b[38;5;241m.\u001b[39mappend(dest_filepath)\n\u001b[1;32m    385\u001b[0m \u001b[38;5;28;01mreturn\u001b[39;00m downloaded_paths\n",
      "File \u001b[0;32m~/miniconda3/lib/python3.9/site-packages/gnss_lib_py/utils/ephemeris_downloader.py:943\u001b[0m, in \u001b[0;36m_ftp_download\u001b[0;34m(url, ftp_path, dest_filepath, verbose)\u001b[0m\n\u001b[1;32m    941\u001b[0m \u001b[38;5;28;01mexcept\u001b[39;00m ftplib\u001b[38;5;241m.\u001b[39merror_perm \u001b[38;5;28;01mas\u001b[39;00m err:\n\u001b[1;32m    942\u001b[0m     os\u001b[38;5;241m.\u001b[39mremove(dest_filepath)\n\u001b[0;32m--> 943\u001b[0m     \u001b[38;5;28;01mraise\u001b[39;00m ftplib\u001b[38;5;241m.\u001b[39merror_perm(\u001b[38;5;28mstr\u001b[39m(err) \u001b[38;5;241m+\u001b[39m \u001b[38;5;124m'\u001b[39m\u001b[38;5;124m Failed to retrieve \u001b[39m\u001b[38;5;124m'\u001b[39m \\\n\u001b[1;32m    944\u001b[0m                           \u001b[38;5;241m+\u001b[39m src_filepath \u001b[38;5;241m+\u001b[39m \u001b[38;5;124m'\u001b[39m\u001b[38;5;124m from \u001b[39m\u001b[38;5;124m'\u001b[39m \u001b[38;5;241m+\u001b[39m url)\n\u001b[1;32m    946\u001b[0m ftp\u001b[38;5;241m.\u001b[39mquit()\n\u001b[1;32m    947\u001b[0m \u001b[38;5;28;01mif\u001b[39;00m ftp \u001b[38;5;129;01mis\u001b[39;00m \u001b[38;5;129;01mnot\u001b[39;00m \u001b[38;5;28;01mNone\u001b[39;00m: \u001b[38;5;66;03m# try closing if still active\u001b[39;00m\n",
      "\u001b[0;31merror_perm\u001b[0m: 550 Failed to open file. Failed to retrieve /gnss/products/2341/COD0OPSRAP_20243230000_01D_05M_ORB.SP3.gz from gdc.cddis.eosdis.nasa.gov"
     ]
    }
   ],
   "source": [
    "rover_ephemeris_file = glp.load_ephemeris(file_type=\"sp3\",\n",
    "                              gps_millis=np.array([rover_gps_millis_start, rover_gps_millis_start]),\n",
    "                              verbose=True)\n",
    "\n",
    "base_ephemeris_file = glp.load_ephemeris(file_type=\"sp3\",\n",
    "                              gps_millis=np.array([base_gps_millis_start, base_gps_millis_start]),\n",
    "                              verbose=True)"
   ]
  },
  {
   "cell_type": "markdown",
   "metadata": {},
   "source": [
    "### Calculate true ranges"
   ]
  },
  {
   "cell_type": "code",
   "execution_count": 200,
   "metadata": {},
   "outputs": [],
   "source": [
    "BASE_STATION_LOCATION_1 = np.array([37.429711,-122.169381,25]).reshape(3, 1)\n",
    "BASE_STATION_LOCATION_2 = np.array([37.4290631,-122.1723136,25]).reshape(3, 1) # multipath test\n",
    "\n",
    "DURAND = np.array([[37.426906], [-122.173278], [21.010]]) "
   ]
  },
  {
   "cell_type": "code",
   "execution_count": 143,
   "metadata": {},
   "outputs": [
    {
     "name": "stdout",
     "output_type": "stream",
     "text": [
      "ephemeris dates needed: [datetime.date(2024, 11, 17), datetime.date(2024, 11, 18)]\n",
      "using previously downloaded file:\n",
      " /home/gigavoltflash/stanford_classes/AA_272/dgnss_aa272/data/ephemeris/rinex/nav/BRDC00WRD_S_20243220000_01D_MN.rnx\n",
      "using previously downloaded file:\n",
      " /home/gigavoltflash/stanford_classes/AA_272/dgnss_aa272/data/ephemeris/rinex/nav/BRDC00WRD_S_20243230000_01D_MN.rnx\n",
      "using previously downloaded file:\n",
      " /home/gigavoltflash/stanford_classes/AA_272/dgnss_aa272/data/ephemeris/rinex/nav/BRDC00WRD_S_20243220000_01D_MN.rnx\n",
      "using previously downloaded file:\n",
      " /home/gigavoltflash/stanford_classes/AA_272/dgnss_aa272/data/ephemeris/rinex/nav/BRDC00WRD_S_20243230000_01D_MN.rnx\n"
     ]
    },
    {
     "name": "stderr",
     "output_type": "stream",
     "text": [
      "/home/gigavoltflash/miniconda3/lib/python3.9/site-packages/gnss_lib_py/parsers/rinex_nav.py:295: RuntimeWarning: No ionospheric parameters found in RINEX file\n",
      "  warnings.warn(\"No ionospheric parameters found in RINEX file\",\n",
      "/home/gigavoltflash/miniconda3/lib/python3.9/site-packages/gnss_lib_py/parsers/rinex_nav.py:295: RuntimeWarning: No ionospheric parameters found in RINEX file\n",
      "  warnings.warn(\"No ionospheric parameters found in RINEX file\",\n"
     ]
    }
   ],
   "source": [
    "## Load the RinexNav data for that day\n",
    "rinex_nav_paths = glp.load_ephemeris(\n",
    "    \"rinex_nav\",\n",
    "    np.array(np.min(base_data['gps_millis']),np.max(base_data['gps_millis'])),\n",
    "    verbose=True,\n",
    ")\n",
    "rinex_nav = glp.RinexNav(rinex_nav_paths, verbose=True)"
   ]
  },
  {
   "cell_type": "code",
   "execution_count": null,
   "metadata": {},
   "outputs": [],
   "source": [
    "def find_sv_pos(rinex, sv_id, gnss_id, gps_millis):\n",
    "    \"\"\" finding sv position with ephemeris data FOR DURAND receiver\"\"\"\n",
    "    n = len(sv_id)\n",
    "    position_info = np.zeros((n, 3))\n",
    "    for i in range(n):\n",
    "        sv_at_millis = glp.find_sv_states(gps_millis[i], rinex)\n",
    "        cropped_sv_at_millis = sv_at_millis.where('sv_id', sv_id[i], 'eq')\n",
    "        gnss_id_at_millis = cropped_sv_at_millis.where('gnss_id', gnss_id[i], 'eq')\n",
    "        position_info[i, 0] = np.mean(gnss_id_at_millis['x_sv_m'])\n",
    "        position_info[i, 1] = np.mean(gnss_id_at_millis['y_sv_m'])\n",
    "        position_info[i, 2] = np.mean(gnss_id_at_millis['z_sv_m'])\n",
    "    return position_info\n",
    "\n",
    "# FOR DURAND DATA\n",
    "# def get_measured_pseudorange(df,sv_id):\n",
    "#     \"\"\" get measured pseudorange of specific sv for durand receiver\"\"\"\n",
    "#     filtered_df = df[df.iloc[:,4] == str(sv_id)]\n",
    "#     return filtered_df.iloc[:,14]\n",
    "\n",
    "def distance_to_groundtruth(sv_pos, ground_truth):\n",
    "    \"\"\" calculate ground truth distance from SV to Durand receiver\"\"\"\n",
    "    gt_ecef = glp.geodetic_to_ecef(ground_truth)\n",
    "    distance = np.linalg.norm(sv_pos[:, :, None] - gt_ecef[None, :, :], axis=1)\n",
    "    return distance\n",
    "\n",
    "def correction(true_range, base_pseudorange, rover_pseudorange):\n",
    "    \"\"\" true_range: ground truth distance from distance_to_groundtruth function\n",
    "    base_pseudorange: pseudorange for base station\n",
    "    pseudorange: pseudorange for phone \"\"\"\n",
    "    e = true_range - base_pseudorange\n",
    "    adjusted_pseudorange = rover_pseudorange + e\n",
    "    return adjusted_pseudorange\n",
    "\n",
    "# def get_pseudorange(raw_data, sv_id):\n",
    "#     \"\"\" get measure pseudorange of the rover with specified sv_id\"\"\"\n",
    "#     cropped_data = raw_data.where(\"sv_id\", sv_id, \"eq\")\n",
    "#     pseudorange = compute_pseudoranges(cropped_data)\n",
    "#     return pseudorange"
   ]
  },
  {
   "cell_type": "code",
   "execution_count": 171,
   "metadata": {},
   "outputs": [],
   "source": [
    "\n",
    "sv_pos = find_sv_pos(rinex_nav, base_data['sv_id'], base_data['gnss_id'], base_data['gps_millis'])\n",
    "\n",
    "# sv_pos = find_sv_pos(rover_ephemeris, 6)\n",
    "# true_ranges = distance_to_groundtruth()"
   ]
  },
  {
   "cell_type": "markdown",
   "metadata": {},
   "source": [
    "### Actual dGNSS shit"
   ]
  },
  {
   "cell_type": "code",
   "execution_count": 202,
   "metadata": {},
   "outputs": [],
   "source": [
    "base_pseudorange = compute_pseudoranges(base_data)\n",
    "true_range = distance_to_groundtruth(sv_pos, BASE_STATION_LOCATION_1).flatten()\n",
    "rover_pseudorange = compute_pseudoranges(rover_data)\n",
    "corrected_pseudorange = correction(true_range[:200], base_pseudorange[:200], rover_pseudorange[:200])"
   ]
  },
  {
   "cell_type": "code",
   "execution_count": 206,
   "metadata": {},
   "outputs": [
    {
     "data": {
      "text/plain": [
       "array([2.03984206e+14, 2.03984208e+14, 2.03984208e+14, 2.03984205e+14,\n",
       "       2.03984206e+14, 2.03984206e+14, 2.03984209e+14, 2.03984206e+14,\n",
       "       2.03984208e+14, 1.81314503e+14,            nan,            nan,\n",
       "                  nan, 1.81314481e+14,            nan, 1.81314500e+14,\n",
       "                  nan, 1.81314499e+14,            nan, 1.81314504e+14,\n",
       "                  nan, 1.81314504e+14, 1.81314505e+14, 1.81314503e+14,\n",
       "                  nan, 1.81314504e+14, 1.81314506e+14, 2.03984206e+14,\n",
       "       2.03984208e+14, 2.03984208e+14, 2.03984205e+14, 2.03984206e+14,\n",
       "       2.03984205e+14, 2.03984209e+14, 2.03984186e+14, 2.03984208e+14,\n",
       "       1.81314503e+14, 1.81314502e+14, 1.81314499e+14, 1.81314499e+14,\n",
       "       1.81314501e+14, 1.81314499e+14, 1.81314501e+14, 1.81314503e+14,\n",
       "       1.81314499e+14,            nan,            nan,            nan,\n",
       "                  nan, 1.81314504e+14, 1.81314482e+14,            nan,\n",
       "       1.81314504e+14,            nan, 2.03984205e+14,            nan,\n",
       "       2.03984208e+14, 2.03984205e+14, 2.03984206e+14,            nan,\n",
       "       2.03984206e+14, 2.03984208e+14, 1.81314502e+14, 1.81314502e+14,\n",
       "       1.81314499e+14, 1.81314499e+14, 1.81314501e+14, 1.81314499e+14,\n",
       "       1.81314500e+14, 1.81314483e+14, 1.81314499e+14, 1.81314500e+14,\n",
       "       1.81314505e+14, 1.81314506e+14, 1.81314505e+14, 1.81314505e+14,\n",
       "       1.81314502e+14, 1.81314503e+14, 1.81314504e+14, 1.81314506e+14,\n",
       "                  nan,            nan,            nan,            nan,\n",
       "       2.03984206e+14,            nan, 2.03984209e+14,            nan,\n",
       "                  nan, 1.81314483e+14, 1.81314502e+14, 1.81314499e+14,\n",
       "                  nan, 1.81314501e+14, 1.81314499e+14, 1.81314501e+14,\n",
       "       1.81314503e+14, 1.81314480e+14, 1.81314500e+14, 1.81314504e+14,\n",
       "       1.81314505e+14, 1.81314504e+14, 1.81314504e+14, 1.81314502e+14,\n",
       "       1.81314503e+14, 1.81314505e+14, 1.81314506e+14, 2.03984206e+14,\n",
       "       2.03984208e+14, 2.03984208e+14, 2.03984205e+14, 2.03984206e+14,\n",
       "       2.03984206e+14, 2.03984209e+14,            nan,            nan,\n",
       "                  nan,            nan, 1.81314499e+14,            nan,\n",
       "       1.81314501e+14,            nan,            nan, 1.81314483e+14,\n",
       "       1.81314499e+14, 1.81314500e+14, 1.81314504e+14, 1.81314506e+14,\n",
       "                  nan, 1.81314505e+14, 1.81314502e+14, 1.81314503e+14,\n",
       "       1.81314485e+14, 1.81314506e+14, 2.03984205e+14, 2.03984208e+14,\n",
       "       2.03984208e+14, 2.03984205e+14, 2.03984206e+14, 2.03984206e+14,\n",
       "       2.03984209e+14, 2.03984206e+14, 2.03984208e+14, 1.81314503e+14,\n",
       "       1.81314502e+14, 1.81314499e+14, 1.81314499e+14, 1.81314501e+14,\n",
       "       1.81314499e+14,            nan,            nan,            nan,\n",
       "       1.81314500e+14,            nan, 1.81314505e+14,            nan,\n",
       "                  nan, 1.81314502e+14, 1.81314503e+14, 1.81314504e+14,\n",
       "                  nan, 2.03984206e+14, 2.03984208e+14,            nan,\n",
       "       2.03984185e+14, 2.03984206e+14, 2.03984206e+14, 2.03984209e+14,\n",
       "       2.03984206e+14, 2.03984208e+14, 1.81314483e+14, 1.81314502e+14,\n",
       "       1.81314499e+14, 1.81314499e+14, 1.81314501e+14, 1.81314499e+14,\n",
       "       1.81314501e+14, 1.81314503e+14, 1.81314499e+14, 1.81314500e+14,\n",
       "       1.81314505e+14, 1.81314506e+14, 1.81314504e+14, 1.81314505e+14,\n",
       "                  nan,            nan,            nan, 1.81314505e+14,\n",
       "                  nan, 2.03984208e+14,            nan,            nan,\n",
       "       2.03984186e+14,            nan, 2.03984209e+14, 2.03984206e+14,\n",
       "       2.03984208e+14, 1.81314503e+14,            nan, 1.81314499e+14])"
      ]
     },
     "execution_count": 206,
     "metadata": {},
     "output_type": "execute_result"
    }
   ],
   "source": [
    "corrected_pseudorange"
   ]
  },
  {
   "cell_type": "code",
   "execution_count": null,
   "metadata": {},
   "outputs": [],
   "source": []
  }
 ],
 "metadata": {
  "kernelspec": {
   "display_name": "base",
   "language": "python",
   "name": "python3"
  },
  "language_info": {
   "codemirror_mode": {
    "name": "ipython",
    "version": 3
   },
   "file_extension": ".py",
   "mimetype": "text/x-python",
   "name": "python",
   "nbconvert_exporter": "python",
   "pygments_lexer": "ipython3",
   "version": "3.9.18"
  }
 },
 "nbformat": 4,
 "nbformat_minor": 2
}
